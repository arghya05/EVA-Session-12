{
  "nbformat": 4,
  "nbformat_minor": 0,
  "metadata": {
    "colab": {
      "name": "Copy of S12_V1(Template for Tiny_ImageNet).ipynb",
      "provenance": [],
      "authorship_tag": "ABX9TyMMJrTSd8yW0QaJwFL1rBek",
      "include_colab_link": true
    },
    "kernelspec": {
      "name": "python3",
      "display_name": "Python 3"
    }
  },
  "cells": [
    {
      "cell_type": "markdown",
      "metadata": {
        "id": "view-in-github",
        "colab_type": "text"
      },
      "source": [
        "<a href=\"https://colab.research.google.com/github/Sushmitha-Katti/EVA-4/blob/master/Session12/Copy_of_S12_V1(Template_for_Tiny_ImageNet).ipynb\" target=\"_parent\"><img src=\"https://colab.research.google.com/assets/colab-badge.svg\" alt=\"Open In Colab\"/></a>"
      ]
    },
    {
      "cell_type": "markdown",
      "metadata": {
        "id": "fDCQhZeHyqfb",
        "colab_type": "text"
      },
      "source": [
        "# **Object classification on Tiny Imagenet Data**"
      ]
    },
    {
      "cell_type": "markdown",
      "metadata": {
        "id": "HAsvhm1SyGGw",
        "colab_type": "text"
      },
      "source": [
        "## **Only problem is to handle black and white data**"
      ]
    },
    {
      "cell_type": "code",
      "metadata": {
        "id": "R2sF8aSvvT9g",
        "colab_type": "code",
        "outputId": "765f6557-a911-4c42-f596-d8cb911f22f5",
        "colab": {
          "base_uri": "https://localhost:8080/",
          "height": 34
        }
      },
      "source": [
        "from google.colab import drive\n",
        "\n",
        "drive.mount( '/content/drive', force_remount=True )"
      ],
      "execution_count": 0,
      "outputs": [
        {
          "output_type": "stream",
          "text": [
            "Mounted at /content/drive\n"
          ],
          "name": "stdout"
        }
      ]
    },
    {
      "cell_type": "markdown",
      "metadata": {
        "id": "Y4iRwPSptj8a",
        "colab_type": "text"
      },
      "source": [
        "## **Download the Tiny Imagenet Data**"
      ]
    },
    {
      "cell_type": "code",
      "metadata": {
        "id": "ESDoqGr2B7qr",
        "colab_type": "code",
        "outputId": "558d29c3-c061-40bc-f1f9-aca37e1e33f9",
        "colab": {
          "base_uri": "https://localhost:8080/",
          "height": 34
        }
      },
      "source": [
        "import os\n",
        "import zipfile\n",
        "import requests\n",
        "from io import StringIO,BytesIO\n",
        "def download_images(url):\n",
        "\n",
        "    if (os.path.isdir(\"tiny-imagenet-200.zip\")):\n",
        "        print ('Images already downloaded...')\n",
        "        return\n",
        "    r = requests.get(url, stream=True)\n",
        "    print ('Downloading ' + url )\n",
        "    zip_ref = zipfile.ZipFile(BytesIO(r.content))\n",
        "    zip_ref.extractall('./')\n",
        "    zip_ref.close()\n",
        "download_images(\"http://cs231n.stanford.edu/tiny-imagenet-200.zip\")\n"
      ],
      "execution_count": 1,
      "outputs": [
        {
          "output_type": "stream",
          "text": [
            "Downloading http://cs231n.stanford.edu/tiny-imagenet-200.zip\n"
          ],
          "name": "stdout"
        }
      ]
    },
    {
      "cell_type": "code",
      "metadata": {
        "id": "MsHFU2VcMWcZ",
        "colab_type": "code",
        "outputId": "8acb4b7b-172b-4b8a-e73c-bf68aeac67ea",
        "colab": {
          "base_uri": "https://localhost:8080/",
          "height": 34
        }
      },
      "source": [
        "!ls tiny-imagenet-200"
      ],
      "execution_count": 2,
      "outputs": [
        {
          "output_type": "stream",
          "text": [
            "test  train  val  wnids.txt  words.txt\n"
          ],
          "name": "stdout"
        }
      ]
    },
    {
      "cell_type": "markdown",
      "metadata": {
        "id": "thCRkCwrtyoW",
        "colab_type": "text"
      },
      "source": [
        "## **To know about python file operation**"
      ]
    },
    {
      "cell_type": "code",
      "metadata": {
        "id": "qU89Vg7mNPti",
        "colab_type": "code",
        "outputId": "ca5b1c6c-2d05-4db7-b652-7e51b0bc14cb",
        "colab": {
          "base_uri": "https://localhost:8080/",
          "height": 1000
        }
      },
      "source": [
        "f = open(\"tiny-imagenet-200/wnids.txt\", \"r\")\n",
        "\n",
        "for line in f:\n",
        "  print(line)"
      ],
      "execution_count": 0,
      "outputs": [
        {
          "output_type": "stream",
          "text": [
            "n02124075\n",
            "\n",
            "n04067472\n",
            "\n",
            "n04540053\n",
            "\n",
            "n04099969\n",
            "\n",
            "n07749582\n",
            "\n",
            "n01641577\n",
            "\n",
            "n02802426\n",
            "\n",
            "n09246464\n",
            "\n",
            "n07920052\n",
            "\n",
            "n03970156\n",
            "\n",
            "n03891332\n",
            "\n",
            "n02106662\n",
            "\n",
            "n03201208\n",
            "\n",
            "n02279972\n",
            "\n",
            "n02132136\n",
            "\n",
            "n04146614\n",
            "\n",
            "n07873807\n",
            "\n",
            "n02364673\n",
            "\n",
            "n04507155\n",
            "\n",
            "n03854065\n",
            "\n",
            "n03838899\n",
            "\n",
            "n03733131\n",
            "\n",
            "n01443537\n",
            "\n",
            "n07875152\n",
            "\n",
            "n03544143\n",
            "\n",
            "n09428293\n",
            "\n",
            "n03085013\n",
            "\n",
            "n02437312\n",
            "\n",
            "n07614500\n",
            "\n",
            "n03804744\n",
            "\n",
            "n04265275\n",
            "\n",
            "n02963159\n",
            "\n",
            "n02486410\n",
            "\n",
            "n01944390\n",
            "\n",
            "n09256479\n",
            "\n",
            "n02058221\n",
            "\n",
            "n04275548\n",
            "\n",
            "n02321529\n",
            "\n",
            "n02769748\n",
            "\n",
            "n02099712\n",
            "\n",
            "n07695742\n",
            "\n",
            "n02056570\n",
            "\n",
            "n02281406\n",
            "\n",
            "n01774750\n",
            "\n",
            "n02509815\n",
            "\n",
            "n03983396\n",
            "\n",
            "n07753592\n",
            "\n",
            "n04254777\n",
            "\n",
            "n02233338\n",
            "\n",
            "n04008634\n",
            "\n",
            "n02823428\n",
            "\n",
            "n02236044\n",
            "\n",
            "n03393912\n",
            "\n",
            "n07583066\n",
            "\n",
            "n04074963\n",
            "\n",
            "n01629819\n",
            "\n",
            "n09332890\n",
            "\n",
            "n02481823\n",
            "\n",
            "n03902125\n",
            "\n",
            "n03404251\n",
            "\n",
            "n09193705\n",
            "\n",
            "n03637318\n",
            "\n",
            "n04456115\n",
            "\n",
            "n02666196\n",
            "\n",
            "n03796401\n",
            "\n",
            "n02795169\n",
            "\n",
            "n02123045\n",
            "\n",
            "n01855672\n",
            "\n",
            "n01882714\n",
            "\n",
            "n02917067\n",
            "\n",
            "n02988304\n",
            "\n",
            "n04398044\n",
            "\n",
            "n02843684\n",
            "\n",
            "n02423022\n",
            "\n",
            "n02669723\n",
            "\n",
            "n04465501\n",
            "\n",
            "n02165456\n",
            "\n",
            "n03770439\n",
            "\n",
            "n02099601\n",
            "\n",
            "n04486054\n",
            "\n",
            "n02950826\n",
            "\n",
            "n03814639\n",
            "\n",
            "n04259630\n",
            "\n",
            "n03424325\n",
            "\n",
            "n02948072\n",
            "\n",
            "n03179701\n",
            "\n",
            "n03400231\n",
            "\n",
            "n02206856\n",
            "\n",
            "n03160309\n",
            "\n",
            "n01984695\n",
            "\n",
            "n03977966\n",
            "\n",
            "n03584254\n",
            "\n",
            "n04023962\n",
            "\n",
            "n02814860\n",
            "\n",
            "n01910747\n",
            "\n",
            "n04596742\n",
            "\n",
            "n03992509\n",
            "\n",
            "n04133789\n",
            "\n",
            "n03937543\n",
            "\n",
            "n02927161\n",
            "\n",
            "n01945685\n",
            "\n",
            "n02395406\n",
            "\n",
            "n02125311\n",
            "\n",
            "n03126707\n",
            "\n",
            "n04532106\n",
            "\n",
            "n02268443\n",
            "\n",
            "n02977058\n",
            "\n",
            "n07734744\n",
            "\n",
            "n03599486\n",
            "\n",
            "n04562935\n",
            "\n",
            "n03014705\n",
            "\n",
            "n04251144\n",
            "\n",
            "n04356056\n",
            "\n",
            "n02190166\n",
            "\n",
            "n03670208\n",
            "\n",
            "n02002724\n",
            "\n",
            "n02074367\n",
            "\n",
            "n04285008\n",
            "\n",
            "n04560804\n",
            "\n",
            "n04366367\n",
            "\n",
            "n02403003\n",
            "\n",
            "n07615774\n",
            "\n",
            "n04501370\n",
            "\n",
            "n03026506\n",
            "\n",
            "n02906734\n",
            "\n",
            "n01770393\n",
            "\n",
            "n04597913\n",
            "\n",
            "n03930313\n",
            "\n",
            "n04118538\n",
            "\n",
            "n04179913\n",
            "\n",
            "n04311004\n",
            "\n",
            "n02123394\n",
            "\n",
            "n04070727\n",
            "\n",
            "n02793495\n",
            "\n",
            "n02730930\n",
            "\n",
            "n02094433\n",
            "\n",
            "n04371430\n",
            "\n",
            "n04328186\n",
            "\n",
            "n03649909\n",
            "\n",
            "n04417672\n",
            "\n",
            "n03388043\n",
            "\n",
            "n01774384\n",
            "\n",
            "n02837789\n",
            "\n",
            "n07579787\n",
            "\n",
            "n04399382\n",
            "\n",
            "n02791270\n",
            "\n",
            "n03089624\n",
            "\n",
            "n02814533\n",
            "\n",
            "n04149813\n",
            "\n",
            "n07747607\n",
            "\n",
            "n03355925\n",
            "\n",
            "n01983481\n",
            "\n",
            "n04487081\n",
            "\n",
            "n03250847\n",
            "\n",
            "n03255030\n",
            "\n",
            "n02892201\n",
            "\n",
            "n02883205\n",
            "\n",
            "n03100240\n",
            "\n",
            "n02415577\n",
            "\n",
            "n02480495\n",
            "\n",
            "n01698640\n",
            "\n",
            "n01784675\n",
            "\n",
            "n04376876\n",
            "\n",
            "n03444034\n",
            "\n",
            "n01917289\n",
            "\n",
            "n01950731\n",
            "\n",
            "n03042490\n",
            "\n",
            "n07711569\n",
            "\n",
            "n04532670\n",
            "\n",
            "n03763968\n",
            "\n",
            "n07768694\n",
            "\n",
            "n02999410\n",
            "\n",
            "n03617480\n",
            "\n",
            "n06596364\n",
            "\n",
            "n01768244\n",
            "\n",
            "n02410509\n",
            "\n",
            "n03976657\n",
            "\n",
            "n01742172\n",
            "\n",
            "n03980874\n",
            "\n",
            "n02808440\n",
            "\n",
            "n02226429\n",
            "\n",
            "n02231487\n",
            "\n",
            "n02085620\n",
            "\n",
            "n01644900\n",
            "\n",
            "n02129165\n",
            "\n",
            "n02699494\n",
            "\n",
            "n03837869\n",
            "\n",
            "n02815834\n",
            "\n",
            "n07720875\n",
            "\n",
            "n02788148\n",
            "\n",
            "n02909870\n",
            "\n",
            "n03706229\n",
            "\n",
            "n07871810\n",
            "\n",
            "n03447447\n",
            "\n",
            "n02113799\n",
            "\n",
            "n12267677\n",
            "\n",
            "n03662601\n",
            "\n",
            "n02841315\n",
            "\n",
            "n07715103\n",
            "\n",
            "n02504458\n",
            "\n"
          ],
          "name": "stdout"
        }
      ]
    },
    {
      "cell_type": "markdown",
      "metadata": {
        "id": "O4luUchuuK8j",
        "colab_type": "text"
      },
      "source": [
        "## **To know about PIL operation**"
      ]
    },
    {
      "cell_type": "code",
      "metadata": {
        "id": "FPlpaEcIMaRS",
        "colab_type": "code",
        "colab": {}
      },
      "source": [
        "# !ls tiny-imagenet-200/train/n02504458/images\n",
        "\n",
        "from PIL import Image\n",
        "a = Image.open(\"tiny-imagenet-200/train/n02504458/images/n02504458_181.JPEG\")"
      ],
      "execution_count": 0,
      "outputs": []
    },
    {
      "cell_type": "markdown",
      "metadata": {
        "id": "DBvJu1fbuVHL",
        "colab_type": "text"
      },
      "source": [
        "## **Converstion from image to numpy array and vise versa** "
      ]
    },
    {
      "cell_type": "code",
      "metadata": {
        "id": "Z2nsV3_oMx9d",
        "colab_type": "code",
        "outputId": "82eaaf77-5eb1-4b2a-9a34-79ce4eb98956",
        "colab": {
          "base_uri": "https://localhost:8080/",
          "height": 931
        }
      },
      "source": [
        "import numpy as np\n",
        "npimg = np.asarray(a)\n",
        "print(npimg.shape)\n",
        "print(npimg)\n",
        "\n",
        "#convert numpy image back to PIL image and display it\n",
        "npimg = Image.fromarray(npimg )\n",
        "display(npimg)"
      ],
      "execution_count": 0,
      "outputs": [
        {
          "output_type": "stream",
          "text": [
            "(64, 64, 3)\n",
            "[[[218 218 220]\n",
            "  [218 218 220]\n",
            "  [218 218 220]\n",
            "  ...\n",
            "  [220 221 223]\n",
            "  [220 221 223]\n",
            "  [220 221 223]]\n",
            "\n",
            " [[218 218 220]\n",
            "  [218 218 220]\n",
            "  [218 218 220]\n",
            "  ...\n",
            "  [220 221 223]\n",
            "  [220 221 223]\n",
            "  [220 221 223]]\n",
            "\n",
            " [[218 218 220]\n",
            "  [218 218 220]\n",
            "  [218 218 220]\n",
            "  ...\n",
            "  [220 221 223]\n",
            "  [220 221 223]\n",
            "  [220 221 223]]\n",
            "\n",
            " ...\n",
            "\n",
            " [[ 91  89  51]\n",
            "  [ 73  71  33]\n",
            "  [ 76  74  36]\n",
            "  ...\n",
            "  [ 96  92  54]\n",
            "  [ 95  91  53]\n",
            "  [ 99  95  57]]\n",
            "\n",
            " [[ 98  95  60]\n",
            "  [ 96  93  58]\n",
            "  [112 109  74]\n",
            "  ...\n",
            "  [103  99  61]\n",
            "  [105 101  63]\n",
            "  [105 101  63]]\n",
            "\n",
            " [[104 101  68]\n",
            "  [ 87  84  51]\n",
            "  [ 95  92  59]\n",
            "  ...\n",
            "  [ 92  90  52]\n",
            "  [ 99  97  59]\n",
            "  [ 98  96  58]]]\n"
          ],
          "name": "stdout"
        },
        {
          "output_type": "display_data",
          "data": {
            "image/png": "[encoded data removed]",
            "text/plain": [
              "<PIL.Image.Image image mode=RGB size=64x64 at 0x7F39A133BEF0>"
            ]
          },
          "metadata": {
            "tags": []
          }
        }
      ]
    },
    {
      "cell_type": "markdown",
      "metadata": {
        "id": "vi_Q6HbNuott",
        "colab_type": "text"
      },
      "source": [
        "## **This is how CIFAR10 dataset is implemented**"
      ]
    },
    {
      "cell_type": "code",
      "metadata": {
        "colab_type": "code",
        "id": "Z8sqRyco9_1H",
        "colab": {}
      },
      "source": [
        "\n",
        "from __future__ import print_function\n",
        "from PIL import Image\n",
        "import os\n",
        "import os.path\n",
        "import numpy as np\n",
        "import sys\n",
        "\n",
        "if sys.version_info[0] == 2:\n",
        "    import cPickle as pickle\n",
        "else:\n",
        "    import pickle\n",
        "\n",
        "from .vision import VisionDataset\n",
        "from .utils import check_integrity, download_and_extract_archive\n",
        "\n",
        "\n",
        "class CIFAR10(VisionDataset):\n",
        "    \"\"\"`CIFAR10 <https://www.cs.toronto.edu/~kriz/cifar.html>`_ Dataset.\n",
        "\n",
        "    Args:\n",
        "        root (string): Root directory of dataset where directory\n",
        "            ``cifar-10-batches-py`` exists or will be saved to if download is set to True.\n",
        "        train (bool, optional): If True, creates dataset from training set, otherwise\n",
        "            creates from test set.\n",
        "        transform (callable, optional): A function/transform that takes in an PIL image\n",
        "            and returns a transformed version. E.g, ``transforms.RandomCrop``\n",
        "        target_transform (callable, optional): A function/transform that takes in the\n",
        "            target and transforms it.\n",
        "        download (bool, optional): If true, downloads the dataset from the internet and\n",
        "            puts it in root directory. If dataset is already downloaded, it is not\n",
        "            downloaded again.\n",
        "\n",
        "    \"\"\"\n",
        "    base_folder = 'tiny-imagenet-200'\n",
        "    url = \"http://cs231n.stanford.edu/tiny-imagenet-200.zip\"\n",
        "    filename = \"tiny-10-python.zip\"\n",
        "    tgz_md5 = 'c58f30108f718f92721af3b95e74349a'\n",
        "    train_list = [\n",
        "        ['data_batch_1', 'c99cafc152244af753f735de768cd75f'],\n",
        "        ['data_batch_2', 'd4bba439e000b95fd0a9bffe97cbabec'],\n",
        "        ['data_batch_3', '54ebc095f3ab1f0389bbae665268c751'],\n",
        "        ['data_batch_4', '634d18415352ddfa80567beed471001a'],\n",
        "        ['data_batch_5', '482c414d41f54cd18b22e5b47cb7c3cb'],\n",
        "    ]\n",
        "\n",
        "    test_list = [\n",
        "        ['test_batch', '40351d587109b95175f43aff81a1287e'],\n",
        "    ]\n",
        "    meta = {\n",
        "        'filename': 'batches.meta',\n",
        "        'key': 'label_names',\n",
        "        'md5': '5ff9c542aee3614f3951f8cda6e48888',\n",
        "    }\n",
        "\n",
        "    def __init__(self, root, train=True, transform=None, target_transform=None,\n",
        "                 download=False):\n",
        "\n",
        "        super(CIFAR10, self).__init__(root, transform=transform,\n",
        "                                      target_transform=target_transform)\n",
        "\n",
        "        self.train = train  # training set or test set\n",
        "\n",
        "        if download:\n",
        "            self.download()\n",
        "\n",
        "        if not self._check_integrity():\n",
        "            raise RuntimeError('Dataset not found or corrupted.' +\n",
        "                               ' You can use download=True to download it')\n",
        "\n",
        "        if self.train:\n",
        "            downloaded_list = self.train_list\n",
        "        else:\n",
        "            downloaded_list = self.test_list\n",
        "\n",
        "        self.data = []\n",
        "        self.targets = []\n",
        "\n",
        "        # now load the picked numpy arrays\n",
        "        for file_name, checksum in downloaded_list:\n",
        "            file_path = os.path.join(self.root, self.base_folder, file_name)\n",
        "            with open(file_path, 'rb') as f:\n",
        "                if sys.version_info[0] == 2:\n",
        "                    entry = pickle.load(f)\n",
        "                else:\n",
        "                    entry = pickle.load(f, encoding='latin1')\n",
        "                self.data.append(entry['data'])\n",
        "                if 'labels' in entry:\n",
        "                    self.targets.extend(entry['labels'])\n",
        "                else:\n",
        "                    self.targets.extend(entry['fine_labels'])\n",
        "\n",
        "        self.data = np.vstack(self.data).reshape(-1, 3, 32, 32)\n",
        "        self.data = self.data.transpose((0, 2, 3, 1))  # convert to HWC\n",
        "\n",
        "        self._load_meta()\n",
        "\n",
        "    def _load_meta(self):\n",
        "        path = os.path.join(self.root, self.base_folder, self.meta['filename'])\n",
        "        if not check_integrity(path, self.meta['md5']):\n",
        "            raise RuntimeError('Dataset metadata file not found or corrupted.' +\n",
        "                               ' You can use download=True to download it')\n",
        "        with open(path, 'rb') as infile:\n",
        "            if sys.version_info[0] == 2:\n",
        "                data = pickle.load(infile)\n",
        "            else:\n",
        "                data = pickle.load(infile, encoding='latin1')\n",
        "            self.classes = data[self.meta['key']]\n",
        "        self.class_to_idx = {_class: i for i, _class in enumerate(self.classes)}\n",
        "\n",
        "[docs]    def __getitem__(self, index):\n",
        "        \"\"\"\n",
        "        Args:\n",
        "            index (int): Index\n",
        "\n",
        "        Returns:\n",
        "            tuple: (image, target) where target is index of the target class.\n",
        "        \"\"\"\n",
        "        img, target = self.data[index], self.targets[index]\n",
        "\n",
        "        # doing this so that it is consistent with all other datasets\n",
        "        # to return a PIL Image\n",
        "        img = Image.fromarray(img)\n",
        "\n",
        "        if self.transform is not None:\n",
        "            img = self.transform(img)\n",
        "\n",
        "        if self.target_transform is not None:\n",
        "            target = self.target_transform(target)\n",
        "\n",
        "        return img, target\n",
        "\n",
        "\n",
        "    def __len__(self):\n",
        "        return len(self.data)\n",
        "\n",
        "    def _check_integrity(self):\n",
        "        root = self.root\n",
        "        for fentry in (self.train_list + self.test_list):\n",
        "            filename, md5 = fentry[0], fentry[1]\n",
        "            fpath = os.path.join(root, self.base_folder, filename)\n",
        "            if not check_integrity(fpath, md5):\n",
        "                return False\n",
        "        return True\n",
        "\n",
        "    def download(self):\n",
        "        if self._check_integrity():\n",
        "            print('Files already downloaded and verified')\n",
        "            return\n",
        "        download_and_extract_archive(self.url, self.root, filename=self.filename, md5=self.tgz_md5)\n",
        "\n",
        "    def extra_repr(self):\n",
        "        return \"Split: {}\".format(\"Train\" if self.train is True else \"Test\")"
      ],
      "execution_count": 0,
      "outputs": []
    },
    {
      "cell_type": "markdown",
      "metadata": {
        "id": "Ulf7V0scuzG2",
        "colab_type": "text"
      },
      "source": [
        "## **Simple implementation of custom dataset**"
      ]
    },
    {
      "cell_type": "code",
      "metadata": {
        "id": "wg2yCtB202fU",
        "colab_type": "code",
        "outputId": "8c540e77-a801-4b83-bc5f-95527d6defe8",
        "colab": {
          "base_uri": "https://localhost:8080/",
          "height": 88
        }
      },
      "source": [
        "from torch.utils.data import Dataset\n",
        "\n",
        "class NumbersDataset(Dataset):\n",
        "    def __init__(self, low, high):\n",
        "        self.samples = list(range(low, high))\n",
        "\n",
        "    def __len__(self):\n",
        "        return len(self.samples)\n",
        "\n",
        "    def __getitem__(self, idx):\n",
        "        return self.samples[idx]\n",
        "\n",
        "\n",
        "if __name__ == '__main__':\n",
        "    dataset = NumbersDataset(2821, 8295)\n",
        "    print(len(dataset))\n",
        "    print(dataset[100])\n",
        "    print(dataset[122:361])"
      ],
      "execution_count": 0,
      "outputs": [
        {
          "output_type": "stream",
          "text": [
            "5474\n",
            "2921\n",
            "[2943, 2944, 2945, 2946, 2947, 2948, 2949, 2950, 2951, 2952, 2953, 2954, 2955, 2956, 2957, 2958, 2959, 2960, 2961, 2962, 2963, 2964, 2965, 2966, 2967, 2968, 2969, 2970, 2971, 2972, 2973, 2974, 2975, 2976, 2977, 2978, 2979, 2980, 2981, 2982, 2983, 2984, 2985, 2986, 2987, 2988, 2989, 2990, 2991, 2992, 2993, 2994, 2995, 2996, 2997, 2998, 2999, 3000, 3001, 3002, 3003, 3004, 3005, 3006, 3007, 3008, 3009, 3010, 3011, 3012, 3013, 3014, 3015, 3016, 3017, 3018, 3019, 3020, 3021, 3022, 3023, 3024, 3025, 3026, 3027, 3028, 3029, 3030, 3031, 3032, 3033, 3034, 3035, 3036, 3037, 3038, 3039, 3040, 3041, 3042, 3043, 3044, 3045, 3046, 3047, 3048, 3049, 3050, 3051, 3052, 3053, 3054, 3055, 3056, 3057, 3058, 3059, 3060, 3061, 3062, 3063, 3064, 3065, 3066, 3067, 3068, 3069, 3070, 3071, 3072, 3073, 3074, 3075, 3076, 3077, 3078, 3079, 3080, 3081, 3082, 3083, 3084, 3085, 3086, 3087, 3088, 3089, 3090, 3091, 3092, 3093, 3094, 3095, 3096, 3097, 3098, 3099, 3100, 3101, 3102, 3103, 3104, 3105, 3106, 3107, 3108, 3109, 3110, 3111, 3112, 3113, 3114, 3115, 3116, 3117, 3118, 3119, 3120, 3121, 3122, 3123, 3124, 3125, 3126, 3127, 3128, 3129, 3130, 3131, 3132, 3133, 3134, 3135, 3136, 3137, 3138, 3139, 3140, 3141, 3142, 3143, 3144, 3145, 3146, 3147, 3148, 3149, 3150, 3151, 3152, 3153, 3154, 3155, 3156, 3157, 3158, 3159, 3160, 3161, 3162, 3163, 3164, 3165, 3166, 3167, 3168, 3169, 3170, 3171, 3172, 3173, 3174, 3175, 3176, 3177, 3178, 3179, 3180, 3181]\n"
          ],
          "name": "stdout"
        }
      ]
    },
    {
      "cell_type": "markdown",
      "metadata": {
        "id": "uzeOldH1vobb",
        "colab_type": "text"
      },
      "source": [
        "---\n",
        "## **Listing all Classess to lists**"
      ]
    },
    {
      "cell_type": "code",
      "metadata": {
        "id": "CS63UrC9vm94",
        "colab_type": "code",
        "colab": {}
      },
      "source": [
        "f = open(\"tiny-imagenet-200/wnids.txt\", \"r\")\n",
        "classes = []\n",
        "for line in f:\n",
        "  classes.append(line.strip())"
      ],
      "execution_count": 0,
      "outputs": []
    },
    {
      "cell_type": "markdown",
      "metadata": {
        "id": "LZx7kIt6u8Dn",
        "colab_type": "text"
      },
      "source": [
        "## **Implementation of Tiny-Imagenet**"
      ]
    },
    {
      "cell_type": "code",
      "metadata": {
        "id": "jDLiR-DN03ai",
        "colab_type": "code",
        "colab": {}
      },
      "source": [
        "from torch.utils.data import Dataset\n",
        "from PIL import Image\n",
        "import numpy as np\n",
        "import torch\n",
        "import os\n",
        "import torchvision.transforms as transforms\n",
        "\n",
        "\n",
        "\n",
        "class TinyImageNet(Dataset):\n",
        "    def __init__(self,url,classes):\n",
        "        self.data = []\n",
        "        self.target = []\n",
        "        self.classes = classes\n",
        "        \n",
        "        wnids = open(f\"{url}/wnids.txt\", \"r\")\n",
        "        \n",
        "        for wclass in wnids:\n",
        "          wclass = wclass.strip()\n",
        "          for i in os.listdir(url+'/train/'+wclass+'/images/'):\n",
        "            a = Image.open(url+\"/train/\"+wclass+\"/images/\"+i)\n",
        "            npimg = np.asarray(a)\n",
        "            \n",
        "            if(len(npimg.shape) ==2):\n",
        "             \n",
        "              self.npimg = np.repeat(npimg[:, :, np.newaxis], 3, axis=2)\n",
        "            self.data.append(npimg)  \n",
        "            self.target.append(self.classes.index(wclass))\n",
        "\n",
        "\n",
        "    def __len__(self):\n",
        "        return len(self.data)\n",
        "\n",
        "    def __getitem__(self, idx):\n",
        "        data = self.data[idx]\n",
        "        target = self.target[idx]\n",
        "        img = data\n",
        "        self.transform =  transforms.Compose(\n",
        "            [   \n",
        "                transforms.ToTensor(),\n",
        "                transforms.Normalize((0.5, 0.5, 0.5), (0.5, 0.5, 0.5))\n",
        "                \n",
        "                \n",
        "            ])\n",
        "        \n",
        "        img = self.transform(img)\n",
        "\n",
        "     \n",
        "\n",
        "        \n",
        "        return img,target\n",
        "\n",
        "\n",
        "\n",
        "\n",
        "dataset = TinyImageNet(\"tiny-imagenet-200\",classes)\n",
        "    \n",
        "  \n",
        "    "
      ],
      "execution_count": 0,
      "outputs": []
    },
    {
      "cell_type": "code",
      "metadata": {
        "id": "B0gnLDsgiaNr",
        "colab_type": "code",
        "colab": {
          "base_uri": "https://localhost:8080/",
          "height": 34
        },
        "outputId": "4b90a6fd-4d25-4bd0-fcfa-01a44276cf11"
      },
      "source": [
        "len(dataset)"
      ],
      "execution_count": 20,
      "outputs": [
        {
          "output_type": "execute_result",
          "data": {
            "text/plain": [
              "100000"
            ]
          },
          "metadata": {
            "tags": []
          },
          "execution_count": 20
        }
      ]
    },
    {
      "cell_type": "code",
      "metadata": {
        "id": "iWt44CYJfuIK",
        "colab_type": "code",
        "colab": {
          "base_uri": "https://localhost:8080/",
          "height": 162
        },
        "outputId": "8460a9b2-4354-4f1a-a0f5-9a239d258411"
      },
      "source": [
        "from PIL import Image\n",
        "display(dataset.c)\n",
        "print(dataset.d.shape)\n",
        "d = Image.fromarray(dataset.d)\n",
        "display(d)"
      ],
      "execution_count": 16,
      "outputs": [
        {
          "output_type": "display_data",
          "data": {
            "image/png": "[encoded data removed]",
            "text/plain": [
              "<PIL.JpegImagePlugin.JpegImageFile image mode=L size=64x64 at 0x7F1C007A2390>"
            ]
          },
          "metadata": {
            "tags": []
          }
        },
        {
          "output_type": "stream",
          "text": [
            "(64, 64, 3)\n"
          ],
          "name": "stdout"
        },
        {
          "output_type": "display_data",
          "data": {
            "image/png": "[encoded data removed]",
            "text/plain": [
              "<PIL.Image.Image image mode=RGB size=64x64 at 0x7F1C0071B588>"
            ]
          },
          "metadata": {
            "tags": []
          }
        }
      ]
    },
    {
      "cell_type": "markdown",
      "metadata": {
        "id": "wK1UksjRvHKH",
        "colab_type": "text"
      },
      "source": [
        "## **Train Test Split(70:30)**"
      ]
    },
    {
      "cell_type": "code",
      "metadata": {
        "id": "eSTgUannosNp",
        "colab_type": "code",
        "colab": {}
      },
      "source": [
        "# print(len(dataloader))\n",
        "# print(len(dataset))\n",
        "train_len = len(dataset)*70//100\n",
        "test_len = len(dataset) - train_len\n",
        "\n",
        "import torch\n",
        "train_set, val_set = torch.utils.data.random_split(dataset, [train_len, test_len])"
      ],
      "execution_count": 0,
      "outputs": []
    },
    {
      "cell_type": "markdown",
      "metadata": {
        "id": "i2ZEDSUsvctr",
        "colab_type": "text"
      },
      "source": [
        "## **DataLoader**"
      ]
    },
    {
      "cell_type": "code",
      "metadata": {
        "id": "ivDXlf0nqkaY",
        "colab_type": "code",
        "colab": {}
      },
      "source": [
        "from torch.utils.data import DataLoader\n",
        "SEED = 1\n",
        "\n",
        "\t# CUDA?\n",
        "cuda = torch.cuda.is_available()\n",
        "\n",
        "\n",
        "\t# For reproducibility\n",
        "torch.manual_seed(SEED)\n",
        "\n",
        "if cuda:\n",
        "\t\t\ttorch.cuda.manual_seed(SEED)\n",
        "trainloader = DataLoader(train_set, batch_size=512, shuffle=True, num_workers=4,pin_memory=True)\n",
        "testloader = DataLoader(val_set, batch_size=512, shuffle=True, num_workers=4,pin_memory=True)"
      ],
      "execution_count": 0,
      "outputs": []
    },
    {
      "cell_type": "code",
      "metadata": {
        "id": "puVS_GpUAmqz",
        "colab_type": "code",
        "outputId": "b67e1947-fc5b-4a7a-b7de-10b687efba2e",
        "colab": {
          "base_uri": "https://localhost:8080/",
          "height": 122
        }
      },
      "source": [
        "from google.colab import drive\n",
        "drive.mount('/content/gdrive',force_remount=True)\n",
        "%reload_ext autoreload\n",
        "%autoreload 2"
      ],
      "execution_count": 7,
      "outputs": [
        {
          "output_type": "stream",
          "text": [
            "Go to this URL in a browser: https://accounts.google.com/o/oauth2/auth?client_id=947318989803-6bn6qk8qdgf4n4g3pfee6491hc0brc4i.apps.googleusercontent.com&redirect_uri=urn%3aietf%3awg%3aoauth%3a2.0%3aoob&response_type=code&scope=email%20https%3a%2f%2fwww.googleapis.com%2fauth%2fdocs.test%20https%3a%2f%2fwww.googleapis.com%2fauth%2fdrive%20https%3a%2f%2fwww.googleapis.com%2fauth%2fdrive.photos.readonly%20https%3a%2f%2fwww.googleapis.com%2fauth%2fpeopleapi.readonly\n",
            "\n",
            "Enter your authorization code:\n",
            "··········\n",
            "Mounted at /content/gdrive\n"
          ],
          "name": "stdout"
        }
      ]
    },
    {
      "cell_type": "code",
      "metadata": {
        "id": "H1CVgU5drc_Q",
        "colab_type": "code",
        "colab": {}
      },
      "source": [
        "\n",
        "import sys\n",
        "folder = '/content/gdrive/My Drive/API'\n",
        "sys.path.append(folder)\n",
        "folder = \"/content/gdrive/My Drive/API/Models\"\n",
        "sys.path.append(folder)"
      ],
      "execution_count": 0,
      "outputs": []
    },
    {
      "cell_type": "markdown",
      "metadata": {
        "id": "9XDU27uFv1sk",
        "colab_type": "text"
      },
      "source": [
        "## **Importing Required files**"
      ]
    },
    {
      "cell_type": "code",
      "metadata": {
        "id": "5yHSlRANA9aW",
        "colab_type": "code",
        "colab": {}
      },
      "source": [
        "import torch\n",
        "import train_test_loader\n",
        "import show_images\n",
        "# from ResnetModel import ResNet18\n",
        "import train_test\n",
        "import evaluate\n",
        "from Albumentationtransform import AlbumentationTransforms\n",
        "from GradCam import GradCAM,visualize_cam\n",
        "from LR_Range_Test import LR_test"
      ],
      "execution_count": 0,
      "outputs": []
    },
    {
      "cell_type": "markdown",
      "metadata": {
        "id": "bidyNeFy0mK1",
        "colab_type": "text"
      },
      "source": [
        "## **Used Torchvisions resnet model, but not pre trained. Print the summary**"
      ]
    },
    {
      "cell_type": "code",
      "metadata": {
        "id": "kxcMgICoIpHI",
        "colab_type": "code",
        "outputId": "699b9610-7b73-4104-d2fc-7ecf91b245fe",
        "colab": {
          "base_uri": "https://localhost:8080/",
          "height": 1000
        }
      },
      "source": [
        "import torchvision\n",
        "import torch.nn as nn\n",
        "import torch.nn.functional as F\n",
        "from torchsummary import summary\n",
        "\n",
        "use_cuda = torch.cuda.is_available()\n",
        "device = torch.device(\"cuda\" if use_cuda else \"cpu\")\n",
        "\n",
        "model = torchvision.models.resnet18(pretrained=False)\n",
        "for param in model.parameters():\n",
        "    param.requires_grad = False\n",
        "    # Replace the last fully-connected layer\n",
        "    # Parameters of newly constructed modules have requires_grad=True by default\n",
        "model.fc = nn.Linear(512, 200) # assuming that the fc7 layer has 512 neurons, otherwise change it \n",
        "summary(model, input_size=(3, 64, 64))\n"
      ],
      "execution_count": 0,
      "outputs": [
        {
          "output_type": "stream",
          "text": [
            "----------------------------------------------------------------\n",
            "        Layer (type)               Output Shape         Param #\n",
            "================================================================\n",
            "            Conv2d-1           [-1, 64, 32, 32]           9,408\n",
            "       BatchNorm2d-2           [-1, 64, 32, 32]             128\n",
            "              ReLU-3           [-1, 64, 32, 32]               0\n",
            "         MaxPool2d-4           [-1, 64, 16, 16]               0\n",
            "            Conv2d-5           [-1, 64, 16, 16]          36,864\n",
            "       BatchNorm2d-6           [-1, 64, 16, 16]             128\n",
            "              ReLU-7           [-1, 64, 16, 16]               0\n",
            "            Conv2d-8           [-1, 64, 16, 16]          36,864\n",
            "       BatchNorm2d-9           [-1, 64, 16, 16]             128\n",
            "             ReLU-10           [-1, 64, 16, 16]               0\n",
            "       BasicBlock-11           [-1, 64, 16, 16]               0\n",
            "           Conv2d-12           [-1, 64, 16, 16]          36,864\n",
            "      BatchNorm2d-13           [-1, 64, 16, 16]             128\n",
            "             ReLU-14           [-1, 64, 16, 16]               0\n",
            "           Conv2d-15           [-1, 64, 16, 16]          36,864\n",
            "      BatchNorm2d-16           [-1, 64, 16, 16]             128\n",
            "             ReLU-17           [-1, 64, 16, 16]               0\n",
            "       BasicBlock-18           [-1, 64, 16, 16]               0\n",
            "           Conv2d-19            [-1, 128, 8, 8]          73,728\n",
            "      BatchNorm2d-20            [-1, 128, 8, 8]             256\n",
            "             ReLU-21            [-1, 128, 8, 8]               0\n",
            "           Conv2d-22            [-1, 128, 8, 8]         147,456\n",
            "      BatchNorm2d-23            [-1, 128, 8, 8]             256\n",
            "           Conv2d-24            [-1, 128, 8, 8]           8,192\n",
            "      BatchNorm2d-25            [-1, 128, 8, 8]             256\n",
            "             ReLU-26            [-1, 128, 8, 8]               0\n",
            "       BasicBlock-27            [-1, 128, 8, 8]               0\n",
            "           Conv2d-28            [-1, 128, 8, 8]         147,456\n",
            "      BatchNorm2d-29            [-1, 128, 8, 8]             256\n",
            "             ReLU-30            [-1, 128, 8, 8]               0\n",
            "           Conv2d-31            [-1, 128, 8, 8]         147,456\n",
            "      BatchNorm2d-32            [-1, 128, 8, 8]             256\n",
            "             ReLU-33            [-1, 128, 8, 8]               0\n",
            "       BasicBlock-34            [-1, 128, 8, 8]               0\n",
            "           Conv2d-35            [-1, 256, 4, 4]         294,912\n",
            "      BatchNorm2d-36            [-1, 256, 4, 4]             512\n",
            "             ReLU-37            [-1, 256, 4, 4]               0\n",
            "           Conv2d-38            [-1, 256, 4, 4]         589,824\n",
            "      BatchNorm2d-39            [-1, 256, 4, 4]             512\n",
            "           Conv2d-40            [-1, 256, 4, 4]          32,768\n",
            "      BatchNorm2d-41            [-1, 256, 4, 4]             512\n",
            "             ReLU-42            [-1, 256, 4, 4]               0\n",
            "       BasicBlock-43            [-1, 256, 4, 4]               0\n",
            "           Conv2d-44            [-1, 256, 4, 4]         589,824\n",
            "      BatchNorm2d-45            [-1, 256, 4, 4]             512\n",
            "             ReLU-46            [-1, 256, 4, 4]               0\n",
            "           Conv2d-47            [-1, 256, 4, 4]         589,824\n",
            "      BatchNorm2d-48            [-1, 256, 4, 4]             512\n",
            "             ReLU-49            [-1, 256, 4, 4]               0\n",
            "       BasicBlock-50            [-1, 256, 4, 4]               0\n",
            "           Conv2d-51            [-1, 512, 2, 2]       1,179,648\n",
            "      BatchNorm2d-52            [-1, 512, 2, 2]           1,024\n",
            "             ReLU-53            [-1, 512, 2, 2]               0\n",
            "           Conv2d-54            [-1, 512, 2, 2]       2,359,296\n",
            "      BatchNorm2d-55            [-1, 512, 2, 2]           1,024\n",
            "           Conv2d-56            [-1, 512, 2, 2]         131,072\n",
            "      BatchNorm2d-57            [-1, 512, 2, 2]           1,024\n",
            "             ReLU-58            [-1, 512, 2, 2]               0\n",
            "       BasicBlock-59            [-1, 512, 2, 2]               0\n",
            "           Conv2d-60            [-1, 512, 2, 2]       2,359,296\n",
            "      BatchNorm2d-61            [-1, 512, 2, 2]           1,024\n",
            "             ReLU-62            [-1, 512, 2, 2]               0\n",
            "           Conv2d-63            [-1, 512, 2, 2]       2,359,296\n",
            "      BatchNorm2d-64            [-1, 512, 2, 2]           1,024\n",
            "             ReLU-65            [-1, 512, 2, 2]               0\n",
            "       BasicBlock-66            [-1, 512, 2, 2]               0\n",
            "AdaptiveAvgPool2d-67            [-1, 512, 1, 1]               0\n",
            "           Linear-68                  [-1, 200]         102,600\n",
            "================================================================\n",
            "Total params: 11,279,112\n",
            "Trainable params: 102,600\n",
            "Non-trainable params: 11,176,512\n",
            "----------------------------------------------------------------\n",
            "Input size (MB): 0.05\n",
            "Forward/backward pass size (MB): 5.13\n",
            "Params size (MB): 43.03\n",
            "Estimated Total Size (MB): 48.20\n",
            "----------------------------------------------------------------\n"
          ],
          "name": "stdout"
        }
      ]
    },
    {
      "cell_type": "code",
      "metadata": {
        "id": "2756qiux_fDC",
        "colab_type": "code",
        "colab": {}
      },
      "source": [
        "\n"
      ],
      "execution_count": 0,
      "outputs": []
    },
    {
      "cell_type": "markdown",
      "metadata": {
        "id": "prWMRFks05H2",
        "colab_type": "text"
      },
      "source": [
        "## **Initialise Optimiser,Scheduler, Criterion**"
      ]
    },
    {
      "cell_type": "code",
      "metadata": {
        "id": "Wr_OTR8erktV",
        "colab_type": "code",
        "colab": {}
      },
      "source": [
        "import torch.nn as nn\n",
        "import torch.optim as optim\n",
        "from torch.optim.lr_scheduler import OneCycleLR\n",
        "\n",
        "optimizer = optim.SGD(model.parameters(), lr=0.01,momentum=0.9,weight_decay=0.005 ) \n",
        "criterion = nn.CrossEntropyLoss()\n",
        "scheduler = OneCycleLR(optimizer, max_lr = 1, total_steps=None, epochs=10, steps_per_epoch=len(trainloader), pct_start=0.5, anneal_strategy='linear', cycle_momentum=False, base_momentum=0.85, max_momentum=0.95, div_factor=10.0,final_div_factor =1)\n"
      ],
      "execution_count": 0,
      "outputs": []
    },
    {
      "cell_type": "markdown",
      "metadata": {
        "id": "qumgWijf1Fsi",
        "colab_type": "text"
      },
      "source": [
        "## **Train Model**"
      ]
    },
    {
      "cell_type": "code",
      "metadata": {
        "id": "6LGzV7sWtGo5",
        "colab_type": "code",
        "outputId": "dd8f3e02-9f62-4687-b4c2-39bc6592cda0",
        "colab": {
          "base_uri": "https://localhost:8080/",
          "height": 357
        }
      },
      "source": [
        "\n",
        "train_test.train_model(model,device,trainloader,testloader,optimizer,criterion,10,scheduler,batch_scheduler=True,best_acc = 0,path = \"/content/gdrive/My Drive/API/tinymodel.pt\")"
      ],
      "execution_count": 0,
      "outputs": [
        {
          "output_type": "stream",
          "text": [
            "\r  0%|          | 0/135 [00:00<?, ?it/s]"
          ],
          "name": "stderr"
        },
        {
          "output_type": "stream",
          "text": [
            "EPOCH: 1 LR: 0.1\n"
          ],
          "name": "stdout"
        },
        {
          "output_type": "stream",
          "text": [
            "Loss=6.116085052490234 Batch_id=134 Accuracy=1.52: 100%|██████████| 135/135 [09:29<00:00,  4.22s/it]\n",
            "  0%|          | 0/135 [00:00<?, ?it/s]"
          ],
          "name": "stderr"
        },
        {
          "output_type": "stream",
          "text": [
            "\n",
            "Test set: Average loss: 0.0123, Accuracy: 220/29454 (0.75%)\n",
            "\n",
            "accuracy increased, Saving model....\n",
            "EPOCH: 2 LR: 0.28026706231454007\n"
          ],
          "name": "stdout"
        },
        {
          "output_type": "stream",
          "text": [
            "Loss=79.4408950805664 Batch_id=134 Accuracy=1.43: 100%|██████████| 135/135 [09:34<00:00,  4.25s/it]\n",
            "  0%|          | 0/135 [00:00<?, ?it/s]"
          ],
          "name": "stderr"
        },
        {
          "output_type": "stream",
          "text": [
            "\n",
            "Test set: Average loss: 0.1525, Accuracy: 234/29454 (0.79%)\n",
            "\n",
            "accuracy increased, Saving model....\n",
            "EPOCH: 3 LR: 0.46053412462908017\n"
          ],
          "name": "stdout"
        },
        {
          "output_type": "stream",
          "text": [
            "Loss=156.1199951171875 Batch_id=134 Accuracy=0.88: 100%|██████████| 135/135 [09:29<00:00,  4.22s/it]\n",
            "  0%|          | 0/135 [00:00<?, ?it/s]"
          ],
          "name": "stderr"
        },
        {
          "output_type": "stream",
          "text": [
            "\n",
            "Test set: Average loss: 0.3345, Accuracy: 199/29454 (0.68%)\n",
            "\n",
            "EPOCH: 4 LR: 0.6408011869436202\n"
          ],
          "name": "stdout"
        },
        {
          "output_type": "stream",
          "text": [
            "Loss=234.8466033935547 Batch_id=134 Accuracy=0.75: 100%|██████████| 135/135 [09:36<00:00,  4.27s/it]\n",
            "  0%|          | 0/135 [00:00<?, ?it/s]"
          ],
          "name": "stderr"
        }
      ]
    },
    {
      "cell_type": "code",
      "metadata": {
        "id": "WbM9eDHzTOsu",
        "colab_type": "code",
        "colab": {}
      },
      "source": [
        ""
      ],
      "execution_count": 0,
      "outputs": []
    }
  ]
}