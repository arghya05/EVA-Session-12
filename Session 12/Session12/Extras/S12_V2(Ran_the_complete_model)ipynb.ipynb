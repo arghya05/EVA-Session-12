{
  "nbformat": 4,
  "nbformat_minor": 0,
  "metadata": {
    "colab": {
      "name": "S12_V2.(Ran the complete model)ipynb",
      "provenance": [],
      "collapsed_sections": [],
      "authorship_tag": "ABX9TyPKEFDpoRdOR5bk/35+Maj5",
      "include_colab_link": true
    },
    "kernelspec": {
      "name": "python3",
      "display_name": "Python 3"
    },
    "accelerator": "GPU"
  },
  "cells": [
    {
      "cell_type": "markdown",
      "metadata": {
        "id": "view-in-github",
        "colab_type": "text"
      },
      "source": [
        "<a href=\"https://colab.research.google.com/github/Sushmitha-Katti/EVA-4/blob/master/Session12/S12_V2(Ran_the_complete_model)ipynb.ipynb\" target=\"_parent\"><img src=\"https://colab.research.google.com/assets/colab-badge.svg\" alt=\"Open In Colab\"/></a>"
      ]
    },
    {
      "cell_type": "markdown",
      "metadata": {
        "id": "fDCQhZeHyqfb",
        "colab_type": "text"
      },
      "source": [
        "# Object classification on Tiny Imagenet Data"
      ]
    },
    {
      "cell_type": "code",
      "metadata": {
        "id": "j1EcWDOVIjkV",
        "colab_type": "code",
        "colab": {
          "base_uri": "https://localhost:8080/",
          "height": 68
        },
        "outputId": "32f1635c-9a28-41ba-b2e9-d467ec0866a8"
      },
      "source": [
        "!pip install --no-cache-dir git+https://github.com/albu/albumentations > /dev/null && echo \"Albumentation library is successfully installed!\"\n",
        "!git clone https://github.com/Sushmitha-Katti/PyTNet \n",
        "import sys\n",
        "sys.path.append(\"PyTNet\")"
      ],
      "execution_count": 6,
      "outputs": [
        {
          "output_type": "stream",
          "text": [
            "  Running command git clone -q https://github.com/albu/albumentations /tmp/pip-req-build-hb1q_31p\n",
            "Albumentation library is successfully installed!\n",
            "fatal: destination path 'PyTNet' already exists and is not an empty directory.\n"
          ],
          "name": "stdout"
        }
      ]
    },
    {
      "cell_type": "markdown",
      "metadata": {
        "id": "9XDU27uFv1sk",
        "colab_type": "text"
      },
      "source": [
        "## **Importing Required files**"
      ]
    },
    {
      "cell_type": "code",
      "metadata": {
        "id": "pqlirjsPJM6p",
        "colab_type": "code",
        "colab": {}
      },
      "source": [
        "import torch\n",
        "import train_test_loader\n",
        "import show_images\n",
        "import train_test\n",
        "import evaluate\n",
        "from Albumentationtransform import AlbumentationTransforms\n",
        "from GradCam import GradCAM,visualize_cam\n",
        "from LR_Range_Test import LR_test\n",
        "from tinyimagenet import TinyImageNetDataSet"
      ],
      "execution_count": 0,
      "outputs": []
    },
    {
      "cell_type": "code",
      "metadata": {
        "colab_type": "code",
        "id": "bIKF2glv-ypB",
        "colab": {}
      },
      "source": [
        "import albumentations as A\n",
        "import cv2\n",
        "channel_means = (0.5, 0.5, 0.5)\n",
        "channel_stdevs = (0.5, 0.5, 0.5)\n",
        "train_transform = AlbumentationTransforms([       \n",
        "                                                                \n",
        "                                      A.HorizontalFlip(p = 0.7),\n",
        "                                      A.PadIfNeeded(min_height=70, min_width=70, border_mode=4, value=None, mask_value=None, always_apply=False, p=1.0)\n",
        "                                      A.GaussNoise(var_limit=(10.0, 50.0), mean=0, always_apply=False, p=0.5)\n",
        "                                      A.RandomCrop(64, 64, always_apply=False, p=1.0)\n",
        "                                      # A.transforms.ShiftScaleRotate()\n",
        "                                      A.Normalize(mean=channel_means, std=channel_stdevs),\n",
        "                                      A.Cutout(num_holes=1, max_h_size=32,max_w_size = 32,p=0.7) \n",
        "                                       ])\n",
        "test_transform = AlbumentationTransforms([A.Normalize(mean=channel_means, std=channel_stdevs)])\n",
        "train_dataset , test_dataset,classes = TinyImageNetDataSet(train_split = 70,test_transforms = test_transform,train_transforms = train_transform)"
      ],
      "execution_count": 0,
      "outputs": []
    },
    {
      "cell_type": "markdown",
      "metadata": {
        "id": "i2ZEDSUsvctr",
        "colab_type": "text"
      },
      "source": [
        "## **DataLoader**"
      ]
    },
    {
      "cell_type": "code",
      "metadata": {
        "id": "PKBwtbU87nKW",
        "colab_type": "code",
        "colab": {}
      },
      "source": [
        "trainloader, testloader = train_test_loader.load(train_dataset,test_dataset,batch_size=640)"
      ],
      "execution_count": 0,
      "outputs": []
    },
    {
      "cell_type": "markdown",
      "metadata": {
        "id": "bidyNeFy0mK1",
        "colab_type": "text"
      },
      "source": [
        "## **Used Torchvisions resnet model, but not pre trained. Print the summary**"
      ]
    },
    {
      "cell_type": "code",
      "metadata": {
        "id": "kxcMgICoIpHI",
        "colab_type": "code",
        "outputId": "188c7258-b871-4cc5-e6c6-e0f453bd5e53",
        "colab": {
          "base_uri": "https://localhost:8080/",
          "height": 1000
        }
      },
      "source": [
        "import torchvision\n",
        "import torch.nn as nn\n",
        "import torch.nn.functional as F\n",
        "from torchsummary import summary\n",
        "\n",
        "use_cuda = torch.cuda.is_available()\n",
        "device = torch.device(\"cuda\" if use_cuda else \"cpu\")\n",
        "model = torchvision.models.resnet18(pretrained=False, num_classes=200).to(device)\n",
        "summary(model, input_size=(3, 64, 64))\n"
      ],
      "execution_count": 10,
      "outputs": [
        {
          "output_type": "stream",
          "text": [
            "----------------------------------------------------------------\n",
            "        Layer (type)               Output Shape         Param #\n",
            "================================================================\n",
            "            Conv2d-1           [-1, 64, 32, 32]           9,408\n",
            "       BatchNorm2d-2           [-1, 64, 32, 32]             128\n",
            "              ReLU-3           [-1, 64, 32, 32]               0\n",
            "         MaxPool2d-4           [-1, 64, 16, 16]               0\n",
            "            Conv2d-5           [-1, 64, 16, 16]          36,864\n",
            "       BatchNorm2d-6           [-1, 64, 16, 16]             128\n",
            "              ReLU-7           [-1, 64, 16, 16]               0\n",
            "            Conv2d-8           [-1, 64, 16, 16]          36,864\n",
            "       BatchNorm2d-9           [-1, 64, 16, 16]             128\n",
            "             ReLU-10           [-1, 64, 16, 16]               0\n",
            "       BasicBlock-11           [-1, 64, 16, 16]               0\n",
            "           Conv2d-12           [-1, 64, 16, 16]          36,864\n",
            "      BatchNorm2d-13           [-1, 64, 16, 16]             128\n",
            "             ReLU-14           [-1, 64, 16, 16]               0\n",
            "           Conv2d-15           [-1, 64, 16, 16]          36,864\n",
            "      BatchNorm2d-16           [-1, 64, 16, 16]             128\n",
            "             ReLU-17           [-1, 64, 16, 16]               0\n",
            "       BasicBlock-18           [-1, 64, 16, 16]               0\n",
            "           Conv2d-19            [-1, 128, 8, 8]          73,728\n",
            "      BatchNorm2d-20            [-1, 128, 8, 8]             256\n",
            "             ReLU-21            [-1, 128, 8, 8]               0\n",
            "           Conv2d-22            [-1, 128, 8, 8]         147,456\n",
            "      BatchNorm2d-23            [-1, 128, 8, 8]             256\n",
            "           Conv2d-24            [-1, 128, 8, 8]           8,192\n",
            "      BatchNorm2d-25            [-1, 128, 8, 8]             256\n",
            "             ReLU-26            [-1, 128, 8, 8]               0\n",
            "       BasicBlock-27            [-1, 128, 8, 8]               0\n",
            "           Conv2d-28            [-1, 128, 8, 8]         147,456\n",
            "      BatchNorm2d-29            [-1, 128, 8, 8]             256\n",
            "             ReLU-30            [-1, 128, 8, 8]               0\n",
            "           Conv2d-31            [-1, 128, 8, 8]         147,456\n",
            "      BatchNorm2d-32            [-1, 128, 8, 8]             256\n",
            "             ReLU-33            [-1, 128, 8, 8]               0\n",
            "       BasicBlock-34            [-1, 128, 8, 8]               0\n",
            "           Conv2d-35            [-1, 256, 4, 4]         294,912\n",
            "      BatchNorm2d-36            [-1, 256, 4, 4]             512\n",
            "             ReLU-37            [-1, 256, 4, 4]               0\n",
            "           Conv2d-38            [-1, 256, 4, 4]         589,824\n",
            "      BatchNorm2d-39            [-1, 256, 4, 4]             512\n",
            "           Conv2d-40            [-1, 256, 4, 4]          32,768\n",
            "      BatchNorm2d-41            [-1, 256, 4, 4]             512\n",
            "             ReLU-42            [-1, 256, 4, 4]               0\n",
            "       BasicBlock-43            [-1, 256, 4, 4]               0\n",
            "           Conv2d-44            [-1, 256, 4, 4]         589,824\n",
            "      BatchNorm2d-45            [-1, 256, 4, 4]             512\n",
            "             ReLU-46            [-1, 256, 4, 4]               0\n",
            "           Conv2d-47            [-1, 256, 4, 4]         589,824\n",
            "      BatchNorm2d-48            [-1, 256, 4, 4]             512\n",
            "             ReLU-49            [-1, 256, 4, 4]               0\n",
            "       BasicBlock-50            [-1, 256, 4, 4]               0\n",
            "           Conv2d-51            [-1, 512, 2, 2]       1,179,648\n",
            "      BatchNorm2d-52            [-1, 512, 2, 2]           1,024\n",
            "             ReLU-53            [-1, 512, 2, 2]               0\n",
            "           Conv2d-54            [-1, 512, 2, 2]       2,359,296\n",
            "      BatchNorm2d-55            [-1, 512, 2, 2]           1,024\n",
            "           Conv2d-56            [-1, 512, 2, 2]         131,072\n",
            "      BatchNorm2d-57            [-1, 512, 2, 2]           1,024\n",
            "             ReLU-58            [-1, 512, 2, 2]               0\n",
            "       BasicBlock-59            [-1, 512, 2, 2]               0\n",
            "           Conv2d-60            [-1, 512, 2, 2]       2,359,296\n",
            "      BatchNorm2d-61            [-1, 512, 2, 2]           1,024\n",
            "             ReLU-62            [-1, 512, 2, 2]               0\n",
            "           Conv2d-63            [-1, 512, 2, 2]       2,359,296\n",
            "      BatchNorm2d-64            [-1, 512, 2, 2]           1,024\n",
            "             ReLU-65            [-1, 512, 2, 2]               0\n",
            "       BasicBlock-66            [-1, 512, 2, 2]               0\n",
            "AdaptiveAvgPool2d-67            [-1, 512, 1, 1]               0\n",
            "           Linear-68                  [-1, 200]         102,600\n",
            "================================================================\n",
            "Total params: 11,279,112\n",
            "Trainable params: 11,279,112\n",
            "Non-trainable params: 0\n",
            "----------------------------------------------------------------\n",
            "Input size (MB): 0.05\n",
            "Forward/backward pass size (MB): 5.13\n",
            "Params size (MB): 43.03\n",
            "Estimated Total Size (MB): 48.20\n",
            "----------------------------------------------------------------\n"
          ],
          "name": "stdout"
        }
      ]
    },
    {
      "cell_type": "markdown",
      "metadata": {
        "id": "prWMRFks05H2",
        "colab_type": "text"
      },
      "source": [
        "## **Initialise Optimiser,Scheduler, Criterion**"
      ]
    },
    {
      "cell_type": "code",
      "metadata": {
        "id": "Wr_OTR8erktV",
        "colab_type": "code",
        "colab": {}
      },
      "source": [
        "import torch.nn as nn\n",
        "import torch.optim as optim\n",
        "from torch.optim.lr_scheduler import OneCycleLR\n",
        "\n",
        "optimizer = optim.SGD(model.parameters(), lr=0.01,momentum=0.9 ) \n",
        "criterion = nn.CrossEntropyLoss()\n",
        "scheduler = OneCycleLR(optimizer, max_lr = 0.2, total_steps=None, epochs=20, steps_per_epoch=1, pct_start=0.5, anneal_strategy='linear', cycle_momentum=True, base_momentum=0.85, max_momentum=0.95, div_factor=10.0,final_div_factor =1)\n"
      ],
      "execution_count": 0,
      "outputs": []
    },
    {
      "cell_type": "markdown",
      "metadata": {
        "id": "qumgWijf1Fsi",
        "colab_type": "text"
      },
      "source": [
        "## **Train Model**"
      ]
    },
    {
      "cell_type": "code",
      "metadata": {
        "id": "6LGzV7sWtGo5",
        "colab_type": "code",
        "outputId": "26377a80-8c77-451b-8edb-578612abbedf",
        "colab": {
          "base_uri": "https://localhost:8080/",
          "height": 1000
        }
      },
      "source": [
        "\n",
        "train_test.train_model(model,device,trainloader,testloader,optimizer,criterion,20,scheduler,batch_scheduler=False,best_acc = 0,path = \"tinymodel.pt\")"
      ],
      "execution_count": 12,
      "outputs": [
        {
          "output_type": "stream",
          "text": [
            "\r  0%|          | 0/121 [00:00<?, ?it/s]"
          ],
          "name": "stderr"
        },
        {
          "output_type": "stream",
          "text": [
            "EPOCH: 1 LR: 0.025\n"
          ],
          "name": "stdout"
        },
        {
          "output_type": "stream",
          "text": [
            "Loss=4.514608860015869 Batch_id=120 Accuracy=3.74: 100%|██████████| 121/121 [03:30<00:00,  1.74s/it]\n",
            "100%|██████████| 52/52 [00:08<00:00,  5.82it/s]\n",
            "  0%|          | 0/121 [00:00<?, ?it/s]"
          ],
          "name": "stderr"
        },
        {
          "output_type": "stream",
          "text": [
            "\n",
            "Test set: Average loss: 0.0073, Accuracy: 2254/33000 (6.83%)\n",
            "\n",
            "accuracy increased, Saving model....\n",
            "EPOCH: 2 LR: 0.045454545454545456\n"
          ],
          "name": "stdout"
        },
        {
          "output_type": "stream",
          "text": [
            "Loss=3.735003709793091 Batch_id=120 Accuracy=11.54: 100%|██████████| 121/121 [03:29<00:00,  1.74s/it]\n",
            "100%|██████████| 52/52 [00:08<00:00,  5.89it/s]\n",
            "  0%|          | 0/121 [00:00<?, ?it/s]"
          ],
          "name": "stderr"
        },
        {
          "output_type": "stream",
          "text": [
            "\n",
            "Test set: Average loss: 0.0065, Accuracy: 4179/33000 (12.66%)\n",
            "\n",
            "accuracy increased, Saving model....\n",
            "EPOCH: 3 LR: 0.06590909090909092\n"
          ],
          "name": "stdout"
        },
        {
          "output_type": "stream",
          "text": [
            "Loss=3.6003386974334717 Batch_id=120 Accuracy=18.17: 100%|██████████| 121/121 [03:29<00:00,  1.73s/it]\n",
            "100%|██████████| 52/52 [00:08<00:00,  6.05it/s]\n",
            "  0%|          | 0/121 [00:00<?, ?it/s]"
          ],
          "name": "stderr"
        },
        {
          "output_type": "stream",
          "text": [
            "\n",
            "Test set: Average loss: 0.0058, Accuracy: 6217/33000 (18.84%)\n",
            "\n",
            "accuracy increased, Saving model....\n",
            "EPOCH: 4 LR: 0.08636363636363636\n"
          ],
          "name": "stdout"
        },
        {
          "output_type": "stream",
          "text": [
            "Loss=3.252199649810791 Batch_id=120 Accuracy=23.03: 100%|██████████| 121/121 [03:27<00:00,  1.71s/it]\n",
            "100%|██████████| 52/52 [00:08<00:00,  6.03it/s]\n",
            "  0%|          | 0/121 [00:00<?, ?it/s]"
          ],
          "name": "stderr"
        },
        {
          "output_type": "stream",
          "text": [
            "\n",
            "Test set: Average loss: 0.0062, Accuracy: 5567/33000 (16.87%)\n",
            "\n",
            "EPOCH: 5 LR: 0.10681818181818181\n"
          ],
          "name": "stdout"
        },
        {
          "output_type": "stream",
          "text": [
            "Loss=3.052760124206543 Batch_id=120 Accuracy=27.34: 100%|██████████| 121/121 [03:27<00:00,  1.71s/it]\n",
            "100%|██████████| 52/52 [00:08<00:00,  6.08it/s]\n",
            "  0%|          | 0/121 [00:00<?, ?it/s]"
          ],
          "name": "stderr"
        },
        {
          "output_type": "stream",
          "text": [
            "\n",
            "Test set: Average loss: 0.0057, Accuracy: 6980/33000 (21.15%)\n",
            "\n",
            "accuracy increased, Saving model....\n",
            "EPOCH: 6 LR: 0.12727272727272726\n"
          ],
          "name": "stdout"
        },
        {
          "output_type": "stream",
          "text": [
            "Loss=3.0257482528686523 Batch_id=120 Accuracy=30.79: 100%|██████████| 121/121 [03:27<00:00,  1.71s/it]\n",
            "100%|██████████| 52/52 [00:08<00:00,  6.01it/s]\n",
            "  0%|          | 0/121 [00:00<?, ?it/s]"
          ],
          "name": "stderr"
        },
        {
          "output_type": "stream",
          "text": [
            "\n",
            "Test set: Average loss: 0.0054, Accuracy: 8071/33000 (24.46%)\n",
            "\n",
            "accuracy increased, Saving model....\n",
            "EPOCH: 7 LR: 0.14772727272727273\n"
          ],
          "name": "stdout"
        },
        {
          "output_type": "stream",
          "text": [
            "Loss=2.772481918334961 Batch_id=120 Accuracy=34.44: 100%|██████████| 121/121 [03:27<00:00,  1.71s/it]\n",
            "100%|██████████| 52/52 [00:08<00:00,  5.98it/s]\n",
            "  0%|          | 0/121 [00:00<?, ?it/s]"
          ],
          "name": "stderr"
        },
        {
          "output_type": "stream",
          "text": [
            "\n",
            "Test set: Average loss: 0.0053, Accuracy: 8570/33000 (25.97%)\n",
            "\n",
            "accuracy increased, Saving model....\n",
            "EPOCH: 8 LR: 0.16818181818181818\n"
          ],
          "name": "stdout"
        },
        {
          "output_type": "stream",
          "text": [
            "Loss=2.468292713165283 Batch_id=120 Accuracy=38.13: 100%|██████████| 121/121 [03:27<00:00,  1.71s/it]\n",
            "100%|██████████| 52/52 [00:08<00:00,  6.08it/s]\n",
            "  0%|          | 0/121 [00:00<?, ?it/s]"
          ],
          "name": "stderr"
        },
        {
          "output_type": "stream",
          "text": [
            "\n",
            "Test set: Average loss: 0.0052, Accuracy: 9146/33000 (27.72%)\n",
            "\n",
            "accuracy increased, Saving model....\n",
            "EPOCH: 9 LR: 0.18863636363636363\n"
          ],
          "name": "stdout"
        },
        {
          "output_type": "stream",
          "text": [
            "Loss=2.360215425491333 Batch_id=120 Accuracy=42.21: 100%|██████████| 121/121 [03:27<00:00,  1.71s/it]\n",
            "100%|██████████| 52/52 [00:08<00:00,  5.94it/s]\n",
            "  0%|          | 0/121 [00:00<?, ?it/s]"
          ],
          "name": "stderr"
        },
        {
          "output_type": "stream",
          "text": [
            "\n",
            "Test set: Average loss: 0.0054, Accuracy: 8721/33000 (26.43%)\n",
            "\n",
            "EPOCH: 10 LR: 0.2090909090909091\n"
          ],
          "name": "stdout"
        },
        {
          "output_type": "stream",
          "text": [
            "Loss=2.2783074378967285 Batch_id=120 Accuracy=45.66: 100%|██████████| 121/121 [03:27<00:00,  1.71s/it]\n",
            "100%|██████████| 52/52 [00:08<00:00,  5.99it/s]\n",
            "  0%|          | 0/121 [00:00<?, ?it/s]"
          ],
          "name": "stderr"
        },
        {
          "output_type": "stream",
          "text": [
            "\n",
            "Test set: Average loss: 0.0052, Accuracy: 9434/33000 (28.59%)\n",
            "\n",
            "accuracy increased, Saving model....\n",
            "EPOCH: 11 LR: 0.22954545454545452\n"
          ],
          "name": "stdout"
        },
        {
          "output_type": "stream",
          "text": [
            "Loss=1.9592241048812866 Batch_id=120 Accuracy=49.70: 100%|██████████| 121/121 [03:27<00:00,  1.72s/it]\n",
            "100%|██████████| 52/52 [00:08<00:00,  5.92it/s]\n",
            "  0%|          | 0/121 [00:00<?, ?it/s]"
          ],
          "name": "stderr"
        },
        {
          "output_type": "stream",
          "text": [
            "\n",
            "Test set: Average loss: 0.0053, Accuracy: 9537/33000 (28.90%)\n",
            "\n",
            "accuracy increased, Saving model....\n",
            "EPOCH: 12 LR: 0.25\n"
          ],
          "name": "stdout"
        },
        {
          "output_type": "stream",
          "text": [
            "Loss=2.0569705963134766 Batch_id=120 Accuracy=53.86: 100%|██████████| 121/121 [03:27<00:00,  1.72s/it]\n",
            "100%|██████████| 52/52 [00:08<00:00,  6.03it/s]\n",
            "  0%|          | 0/121 [00:00<?, ?it/s]"
          ],
          "name": "stderr"
        },
        {
          "output_type": "stream",
          "text": [
            "\n",
            "Test set: Average loss: 0.0057, Accuracy: 8977/33000 (27.20%)\n",
            "\n",
            "EPOCH: 13 LR: 0.23125\n"
          ],
          "name": "stdout"
        },
        {
          "output_type": "stream",
          "text": [
            "Loss=1.6078858375549316 Batch_id=120 Accuracy=61.67: 100%|██████████| 121/121 [03:27<00:00,  1.71s/it]\n",
            "100%|██████████| 52/52 [00:08<00:00,  5.98it/s]\n",
            "  0%|          | 0/121 [00:00<?, ?it/s]"
          ],
          "name": "stderr"
        },
        {
          "output_type": "stream",
          "text": [
            "\n",
            "Test set: Average loss: 0.0054, Accuracy: 10251/33000 (31.06%)\n",
            "\n",
            "accuracy increased, Saving model....\n",
            "EPOCH: 14 LR: 0.2125\n"
          ],
          "name": "stdout"
        },
        {
          "output_type": "stream",
          "text": [
            "Loss=1.1897804737091064 Batch_id=120 Accuracy=69.20: 100%|██████████| 121/121 [03:27<00:00,  1.71s/it]\n",
            "100%|██████████| 52/52 [00:08<00:00,  6.03it/s]\n",
            "  0%|          | 0/121 [00:00<?, ?it/s]"
          ],
          "name": "stderr"
        },
        {
          "output_type": "stream",
          "text": [
            "\n",
            "Test set: Average loss: 0.0056, Accuracy: 10412/33000 (31.55%)\n",
            "\n",
            "accuracy increased, Saving model....\n",
            "EPOCH: 15 LR: 0.19375\n"
          ],
          "name": "stdout"
        },
        {
          "output_type": "stream",
          "text": [
            "Loss=0.9776153564453125 Batch_id=120 Accuracy=76.52: 100%|██████████| 121/121 [03:27<00:00,  1.72s/it]\n",
            "100%|██████████| 52/52 [00:08<00:00,  6.01it/s]\n",
            "  0%|          | 0/121 [00:00<?, ?it/s]"
          ],
          "name": "stderr"
        },
        {
          "output_type": "stream",
          "text": [
            "\n",
            "Test set: Average loss: 0.0059, Accuracy: 10478/33000 (31.75%)\n",
            "\n",
            "accuracy increased, Saving model....\n",
            "EPOCH: 16 LR: 0.175\n"
          ],
          "name": "stdout"
        },
        {
          "output_type": "stream",
          "text": [
            "Loss=0.5976357460021973 Batch_id=120 Accuracy=83.05: 100%|██████████| 121/121 [03:27<00:00,  1.72s/it]\n",
            "100%|██████████| 52/52 [00:08<00:00,  6.07it/s]\n",
            "  0%|          | 0/121 [00:00<?, ?it/s]"
          ],
          "name": "stderr"
        },
        {
          "output_type": "stream",
          "text": [
            "\n",
            "Test set: Average loss: 0.0060, Accuracy: 10958/33000 (33.21%)\n",
            "\n",
            "accuracy increased, Saving model....\n",
            "EPOCH: 17 LR: 0.15625\n"
          ],
          "name": "stdout"
        },
        {
          "output_type": "stream",
          "text": [
            "Loss=0.5103655457496643 Batch_id=120 Accuracy=88.61: 100%|██████████| 121/121 [03:27<00:00,  1.72s/it]\n",
            "100%|██████████| 52/52 [00:08<00:00,  5.96it/s]\n",
            "  0%|          | 0/121 [00:00<?, ?it/s]"
          ],
          "name": "stderr"
        },
        {
          "output_type": "stream",
          "text": [
            "\n",
            "Test set: Average loss: 0.0063, Accuracy: 10952/33000 (33.19%)\n",
            "\n",
            "EPOCH: 18 LR: 0.1375\n"
          ],
          "name": "stdout"
        },
        {
          "output_type": "stream",
          "text": [
            "Loss=0.3222495913505554 Batch_id=120 Accuracy=92.75: 100%|██████████| 121/121 [03:27<00:00,  1.72s/it]\n",
            "100%|██████████| 52/52 [00:08<00:00,  6.07it/s]\n",
            "  0%|          | 0/121 [00:00<?, ?it/s]"
          ],
          "name": "stderr"
        },
        {
          "output_type": "stream",
          "text": [
            "\n",
            "Test set: Average loss: 0.0063, Accuracy: 11165/33000 (33.83%)\n",
            "\n",
            "accuracy increased, Saving model....\n",
            "EPOCH: 19 LR: 0.11875\n"
          ],
          "name": "stdout"
        },
        {
          "output_type": "stream",
          "text": [
            "Loss=0.1861504763364792 Batch_id=120 Accuracy=95.16: 100%|██████████| 121/121 [03:27<00:00,  1.72s/it]\n",
            "100%|██████████| 52/52 [00:08<00:00,  5.98it/s]\n",
            "  0%|          | 0/121 [00:00<?, ?it/s]"
          ],
          "name": "stderr"
        },
        {
          "output_type": "stream",
          "text": [
            "\n",
            "Test set: Average loss: 0.0063, Accuracy: 11509/33000 (34.88%)\n",
            "\n",
            "accuracy increased, Saving model....\n",
            "EPOCH: 20 LR: 0.1\n"
          ],
          "name": "stdout"
        },
        {
          "output_type": "stream",
          "text": [
            "Loss=0.1393725723028183 Batch_id=120 Accuracy=96.68: 100%|██████████| 121/121 [03:27<00:00,  1.72s/it]\n",
            "100%|██████████| 52/52 [00:08<00:00,  5.99it/s]\n",
            "  0%|          | 0/121 [00:00<?, ?it/s]"
          ],
          "name": "stderr"
        },
        {
          "output_type": "stream",
          "text": [
            "\n",
            "Test set: Average loss: 0.0064, Accuracy: 11576/33000 (35.08%)\n",
            "\n",
            "accuracy increased, Saving model....\n",
            "EPOCH: 21 LR: 0.08124999999999999\n"
          ],
          "name": "stdout"
        },
        {
          "output_type": "stream",
          "text": [
            "Loss=0.0812913030385971 Batch_id=120 Accuracy=97.90: 100%|██████████| 121/121 [03:27<00:00,  1.72s/it]\n",
            "100%|██████████| 52/52 [00:08<00:00,  6.07it/s]\n",
            "  0%|          | 0/121 [00:00<?, ?it/s]"
          ],
          "name": "stderr"
        },
        {
          "output_type": "stream",
          "text": [
            "\n",
            "Test set: Average loss: 0.0064, Accuracy: 11696/33000 (35.44%)\n",
            "\n",
            "accuracy increased, Saving model....\n",
            "EPOCH: 22 LR: 0.0625\n"
          ],
          "name": "stdout"
        },
        {
          "output_type": "stream",
          "text": [
            "Loss=0.03399546444416046 Batch_id=120 Accuracy=98.58: 100%|██████████| 121/121 [03:27<00:00,  1.71s/it]\n",
            "100%|██████████| 52/52 [00:08<00:00,  5.97it/s]\n",
            "  0%|          | 0/121 [00:00<?, ?it/s]"
          ],
          "name": "stderr"
        },
        {
          "output_type": "stream",
          "text": [
            "\n",
            "Test set: Average loss: 0.0064, Accuracy: 11875/33000 (35.98%)\n",
            "\n",
            "accuracy increased, Saving model....\n",
            "EPOCH: 23 LR: 0.04375000000000001\n"
          ],
          "name": "stdout"
        },
        {
          "output_type": "stream",
          "text": [
            "Loss=0.07350314408540726 Batch_id=120 Accuracy=99.02: 100%|██████████| 121/121 [03:27<00:00,  1.72s/it]\n",
            "100%|██████████| 52/52 [00:08<00:00,  6.06it/s]\n",
            "  0%|          | 0/121 [00:00<?, ?it/s]"
          ],
          "name": "stderr"
        },
        {
          "output_type": "stream",
          "text": [
            "\n",
            "Test set: Average loss: 0.0064, Accuracy: 12007/33000 (36.38%)\n",
            "\n",
            "accuracy increased, Saving model....\n",
            "EPOCH: 24 LR: 0.024999999999999994\n"
          ],
          "name": "stdout"
        },
        {
          "output_type": "stream",
          "text": [
            "Loss=0.04106489196419716 Batch_id=120 Accuracy=99.20: 100%|██████████| 121/121 [03:27<00:00,  1.71s/it]\n",
            "100%|██████████| 52/52 [00:08<00:00,  5.99it/s]"
          ],
          "name": "stderr"
        },
        {
          "output_type": "stream",
          "text": [
            "\n",
            "Test set: Average loss: 0.0064, Accuracy: 11995/33000 (36.35%)\n",
            "\n"
          ],
          "name": "stdout"
        },
        {
          "output_type": "stream",
          "text": [
            "\n"
          ],
          "name": "stderr"
        }
      ]
    }
  ]
}