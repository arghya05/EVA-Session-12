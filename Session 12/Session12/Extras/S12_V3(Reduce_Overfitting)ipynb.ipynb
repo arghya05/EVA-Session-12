{
  "nbformat": 4,
  "nbformat_minor": 0,
  "metadata": {
    "colab": {
      "name": "S12_V3(Reduce Overfitting)ipynb",
      "provenance": [],
      "collapsed_sections": [],
      "authorship_tag": "ABX9TyMaXTs121JuXHsZGg7QaDow",
      "include_colab_link": true
    },
    "kernelspec": {
      "name": "python3",
      "display_name": "Python 3"
    },
    "accelerator": "GPU",
    "widgets": {
      "application/vnd.jupyter.widget-state+json": {
        "b8fa16b721e54ad392c56027e1c94847": {
          "model_module": "@jupyter-widgets/controls",
          "model_name": "HBoxModel",
          "state": {
            "_view_name": "HBoxView",
            "_dom_classes": [],
            "_model_name": "HBoxModel",
            "_view_module": "@jupyter-widgets/controls",
            "_model_module_version": "1.5.0",
            "_view_count": null,
            "_view_module_version": "1.5.0",
            "box_style": "",
            "layout": "IPY_MODEL_3bb57c3cb57f4ab581057d2fbf49854b",
            "_model_module": "@jupyter-widgets/controls",
            "children": [
              "IPY_MODEL_c2967d94c52245f391e4e4642ed36528",
              "IPY_MODEL_b556fe01eefd4d3385aae3607d80f219"
            ]
          }
        },
        "3bb57c3cb57f4ab581057d2fbf49854b": {
          "model_module": "@jupyter-widgets/base",
          "model_name": "LayoutModel",
          "state": {
            "_view_name": "LayoutView",
            "grid_template_rows": null,
            "right": null,
            "justify_content": null,
            "_view_module": "@jupyter-widgets/base",
            "overflow": null,
            "_model_module_version": "1.2.0",
            "_view_count": null,
            "flex_flow": null,
            "width": null,
            "min_width": null,
            "border": null,
            "align_items": null,
            "bottom": null,
            "_model_module": "@jupyter-widgets/base",
            "top": null,
            "grid_column": null,
            "overflow_y": null,
            "overflow_x": null,
            "grid_auto_flow": null,
            "grid_area": null,
            "grid_template_columns": null,
            "flex": null,
            "_model_name": "LayoutModel",
            "justify_items": null,
            "grid_row": null,
            "max_height": null,
            "align_content": null,
            "visibility": null,
            "align_self": null,
            "height": null,
            "min_height": null,
            "padding": null,
            "grid_auto_rows": null,
            "grid_gap": null,
            "max_width": null,
            "order": null,
            "_view_module_version": "1.2.0",
            "grid_template_areas": null,
            "object_position": null,
            "object_fit": null,
            "grid_auto_columns": null,
            "margin": null,
            "display": null,
            "left": null
          }
        },
        "c2967d94c52245f391e4e4642ed36528": {
          "model_module": "@jupyter-widgets/controls",
          "model_name": "IntProgressModel",
          "state": {
            "_view_name": "ProgressView",
            "style": "IPY_MODEL_9a6a3856717e47c284ed743133f7c323",
            "_dom_classes": [],
            "description": "Loading Train Folder: 100%",
            "_model_name": "IntProgressModel",
            "bar_style": "success",
            "max": 200,
            "_view_module": "@jupyter-widgets/controls",
            "_model_module_version": "1.5.0",
            "value": 200,
            "_view_count": null,
            "_view_module_version": "1.5.0",
            "orientation": "horizontal",
            "min": 0,
            "description_tooltip": null,
            "_model_module": "@jupyter-widgets/controls",
            "layout": "IPY_MODEL_80aa797be89d41119723b0230b9b2936"
          }
        },
        "b556fe01eefd4d3385aae3607d80f219": {
          "model_module": "@jupyter-widgets/controls",
          "model_name": "HTMLModel",
          "state": {
            "_view_name": "HTMLView",
            "style": "IPY_MODEL_4b02e1d03ea643a8bb04624d42e2ea69",
            "_dom_classes": [],
            "description": "",
            "_model_name": "HTMLModel",
            "placeholder": "​",
            "_view_module": "@jupyter-widgets/controls",
            "_model_module_version": "1.5.0",
            "value": " 200/200 [04:31&lt;00:00,  1.36s/it]",
            "_view_count": null,
            "_view_module_version": "1.5.0",
            "description_tooltip": null,
            "_model_module": "@jupyter-widgets/controls",
            "layout": "IPY_MODEL_5390910787814f9fb72454e62993a6d9"
          }
        },
        "9a6a3856717e47c284ed743133f7c323": {
          "model_module": "@jupyter-widgets/controls",
          "model_name": "ProgressStyleModel",
          "state": {
            "_view_name": "StyleView",
            "_model_name": "ProgressStyleModel",
            "description_width": "initial",
            "_view_module": "@jupyter-widgets/base",
            "_model_module_version": "1.5.0",
            "_view_count": null,
            "_view_module_version": "1.2.0",
            "bar_color": null,
            "_model_module": "@jupyter-widgets/controls"
          }
        },
        "80aa797be89d41119723b0230b9b2936": {
          "model_module": "@jupyter-widgets/base",
          "model_name": "LayoutModel",
          "state": {
            "_view_name": "LayoutView",
            "grid_template_rows": null,
            "right": null,
            "justify_content": null,
            "_view_module": "@jupyter-widgets/base",
            "overflow": null,
            "_model_module_version": "1.2.0",
            "_view_count": null,
            "flex_flow": null,
            "width": null,
            "min_width": null,
            "border": null,
            "align_items": null,
            "bottom": null,
            "_model_module": "@jupyter-widgets/base",
            "top": null,
            "grid_column": null,
            "overflow_y": null,
            "overflow_x": null,
            "grid_auto_flow": null,
            "grid_area": null,
            "grid_template_columns": null,
            "flex": null,
            "_model_name": "LayoutModel",
            "justify_items": null,
            "grid_row": null,
            "max_height": null,
            "align_content": null,
            "visibility": null,
            "align_self": null,
            "height": null,
            "min_height": null,
            "padding": null,
            "grid_auto_rows": null,
            "grid_gap": null,
            "max_width": null,
            "order": null,
            "_view_module_version": "1.2.0",
            "grid_template_areas": null,
            "object_position": null,
            "object_fit": null,
            "grid_auto_columns": null,
            "margin": null,
            "display": null,
            "left": null
          }
        },
        "4b02e1d03ea643a8bb04624d42e2ea69": {
          "model_module": "@jupyter-widgets/controls",
          "model_name": "DescriptionStyleModel",
          "state": {
            "_view_name": "StyleView",
            "_model_name": "DescriptionStyleModel",
            "description_width": "",
            "_view_module": "@jupyter-widgets/base",
            "_model_module_version": "1.5.0",
            "_view_count": null,
            "_view_module_version": "1.2.0",
            "_model_module": "@jupyter-widgets/controls"
          }
        },
        "5390910787814f9fb72454e62993a6d9": {
          "model_module": "@jupyter-widgets/base",
          "model_name": "LayoutModel",
          "state": {
            "_view_name": "LayoutView",
            "grid_template_rows": null,
            "right": null,
            "justify_content": null,
            "_view_module": "@jupyter-widgets/base",
            "overflow": null,
            "_model_module_version": "1.2.0",
            "_view_count": null,
            "flex_flow": null,
            "width": null,
            "min_width": null,
            "border": null,
            "align_items": null,
            "bottom": null,
            "_model_module": "@jupyter-widgets/base",
            "top": null,
            "grid_column": null,
            "overflow_y": null,
            "overflow_x": null,
            "grid_auto_flow": null,
            "grid_area": null,
            "grid_template_columns": null,
            "flex": null,
            "_model_name": "LayoutModel",
            "justify_items": null,
            "grid_row": null,
            "max_height": null,
            "align_content": null,
            "visibility": null,
            "align_self": null,
            "height": null,
            "min_height": null,
            "padding": null,
            "grid_auto_rows": null,
            "grid_gap": null,
            "max_width": null,
            "order": null,
            "_view_module_version": "1.2.0",
            "grid_template_areas": null,
            "object_position": null,
            "object_fit": null,
            "grid_auto_columns": null,
            "margin": null,
            "display": null,
            "left": null
          }
        },
        "296c155bba0248ea80bbb92a8cf78fb0": {
          "model_module": "@jupyter-widgets/controls",
          "model_name": "HBoxModel",
          "state": {
            "_view_name": "HBoxView",
            "_dom_classes": [],
            "_model_name": "HBoxModel",
            "_view_module": "@jupyter-widgets/controls",
            "_model_module_version": "1.5.0",
            "_view_count": null,
            "_view_module_version": "1.5.0",
            "box_style": "",
            "layout": "IPY_MODEL_3de2c6ed7c364d1092d8ad86f38fa070",
            "_model_module": "@jupyter-widgets/controls",
            "children": [
              "IPY_MODEL_b62de4daf27c499f964f9c363df630e9",
              "IPY_MODEL_3cfbfc2069de4bf8bebe66fa628d6380"
            ]
          }
        },
        "3de2c6ed7c364d1092d8ad86f38fa070": {
          "model_module": "@jupyter-widgets/base",
          "model_name": "LayoutModel",
          "state": {
            "_view_name": "LayoutView",
            "grid_template_rows": null,
            "right": null,
            "justify_content": null,
            "_view_module": "@jupyter-widgets/base",
            "overflow": null,
            "_model_module_version": "1.2.0",
            "_view_count": null,
            "flex_flow": null,
            "width": null,
            "min_width": null,
            "border": null,
            "align_items": null,
            "bottom": null,
            "_model_module": "@jupyter-widgets/base",
            "top": null,
            "grid_column": null,
            "overflow_y": null,
            "overflow_x": null,
            "grid_auto_flow": null,
            "grid_area": null,
            "grid_template_columns": null,
            "flex": null,
            "_model_name": "LayoutModel",
            "justify_items": null,
            "grid_row": null,
            "max_height": null,
            "align_content": null,
            "visibility": null,
            "align_self": null,
            "height": null,
            "min_height": null,
            "padding": null,
            "grid_auto_rows": null,
            "grid_gap": null,
            "max_width": null,
            "order": null,
            "_view_module_version": "1.2.0",
            "grid_template_areas": null,
            "object_position": null,
            "object_fit": null,
            "grid_auto_columns": null,
            "margin": null,
            "display": null,
            "left": null
          }
        },
        "b62de4daf27c499f964f9c363df630e9": {
          "model_module": "@jupyter-widgets/controls",
          "model_name": "IntProgressModel",
          "state": {
            "_view_name": "ProgressView",
            "style": "IPY_MODEL_bd49fdbbe8bd4a2e927a9b45e0f6e205",
            "_dom_classes": [],
            "description": "Loading Test Folder: 100%",
            "_model_name": "IntProgressModel",
            "bar_style": "success",
            "max": 10000,
            "_view_module": "@jupyter-widgets/controls",
            "_model_module_version": "1.5.0",
            "value": 10000,
            "_view_count": null,
            "_view_module_version": "1.5.0",
            "orientation": "horizontal",
            "min": 0,
            "description_tooltip": null,
            "_model_module": "@jupyter-widgets/controls",
            "layout": "IPY_MODEL_e42d52ae67c241c4b186a55aba5ed3c8"
          }
        },
        "3cfbfc2069de4bf8bebe66fa628d6380": {
          "model_module": "@jupyter-widgets/controls",
          "model_name": "HTMLModel",
          "state": {
            "_view_name": "HTMLView",
            "style": "IPY_MODEL_034d314cfbdb45d69bbab1ac21718c1a",
            "_dom_classes": [],
            "description": "",
            "_model_name": "HTMLModel",
            "placeholder": "​",
            "_view_module": "@jupyter-widgets/controls",
            "_model_module_version": "1.5.0",
            "value": " 10000/10000 [00:13&lt;00:00, 745.25it/s]",
            "_view_count": null,
            "_view_module_version": "1.5.0",
            "description_tooltip": null,
            "_model_module": "@jupyter-widgets/controls",
            "layout": "IPY_MODEL_a05afb200e254002bfe6890553954901"
          }
        },
        "bd49fdbbe8bd4a2e927a9b45e0f6e205": {
          "model_module": "@jupyter-widgets/controls",
          "model_name": "ProgressStyleModel",
          "state": {
            "_view_name": "StyleView",
            "_model_name": "ProgressStyleModel",
            "description_width": "initial",
            "_view_module": "@jupyter-widgets/base",
            "_model_module_version": "1.5.0",
            "_view_count": null,
            "_view_module_version": "1.2.0",
            "bar_color": null,
            "_model_module": "@jupyter-widgets/controls"
          }
        },
        "e42d52ae67c241c4b186a55aba5ed3c8": {
          "model_module": "@jupyter-widgets/base",
          "model_name": "LayoutModel",
          "state": {
            "_view_name": "LayoutView",
            "grid_template_rows": null,
            "right": null,
            "justify_content": null,
            "_view_module": "@jupyter-widgets/base",
            "overflow": null,
            "_model_module_version": "1.2.0",
            "_view_count": null,
            "flex_flow": null,
            "width": null,
            "min_width": null,
            "border": null,
            "align_items": null,
            "bottom": null,
            "_model_module": "@jupyter-widgets/base",
            "top": null,
            "grid_column": null,
            "overflow_y": null,
            "overflow_x": null,
            "grid_auto_flow": null,
            "grid_area": null,
            "grid_template_columns": null,
            "flex": null,
            "_model_name": "LayoutModel",
            "justify_items": null,
            "grid_row": null,
            "max_height": null,
            "align_content": null,
            "visibility": null,
            "align_self": null,
            "height": null,
            "min_height": null,
            "padding": null,
            "grid_auto_rows": null,
            "grid_gap": null,
            "max_width": null,
            "order": null,
            "_view_module_version": "1.2.0",
            "grid_template_areas": null,
            "object_position": null,
            "object_fit": null,
            "grid_auto_columns": null,
            "margin": null,
            "display": null,
            "left": null
          }
        },
        "034d314cfbdb45d69bbab1ac21718c1a": {
          "model_module": "@jupyter-widgets/controls",
          "model_name": "DescriptionStyleModel",
          "state": {
            "_view_name": "StyleView",
            "_model_name": "DescriptionStyleModel",
            "description_width": "",
            "_view_module": "@jupyter-widgets/base",
            "_model_module_version": "1.5.0",
            "_view_count": null,
            "_view_module_version": "1.2.0",
            "_model_module": "@jupyter-widgets/controls"
          }
        },
        "a05afb200e254002bfe6890553954901": {
          "model_module": "@jupyter-widgets/base",
          "model_name": "LayoutModel",
          "state": {
            "_view_name": "LayoutView",
            "grid_template_rows": null,
            "right": null,
            "justify_content": null,
            "_view_module": "@jupyter-widgets/base",
            "overflow": null,
            "_model_module_version": "1.2.0",
            "_view_count": null,
            "flex_flow": null,
            "width": null,
            "min_width": null,
            "border": null,
            "align_items": null,
            "bottom": null,
            "_model_module": "@jupyter-widgets/base",
            "top": null,
            "grid_column": null,
            "overflow_y": null,
            "overflow_x": null,
            "grid_auto_flow": null,
            "grid_area": null,
            "grid_template_columns": null,
            "flex": null,
            "_model_name": "LayoutModel",
            "justify_items": null,
            "grid_row": null,
            "max_height": null,
            "align_content": null,
            "visibility": null,
            "align_self": null,
            "height": null,
            "min_height": null,
            "padding": null,
            "grid_auto_rows": null,
            "grid_gap": null,
            "max_width": null,
            "order": null,
            "_view_module_version": "1.2.0",
            "grid_template_areas": null,
            "object_position": null,
            "object_fit": null,
            "grid_auto_columns": null,
            "margin": null,
            "display": null,
            "left": null
          }
        }
      }
    }
  },
  "cells": [
    {
      "cell_type": "markdown",
      "metadata": {
        "id": "view-in-github",
        "colab_type": "text"
      },
      "source": [
        "<a href=\"https://colab.research.google.com/github/Sushmitha-Katti/EVA-4/blob/master/Session12/S12_V3(Reduce_Overfitting)ipynb.ipynb\" target=\"_parent\"><img src=\"https://colab.research.google.com/assets/colab-badge.svg\" alt=\"Open In Colab\"/></a>"
      ]
    },
    {
      "cell_type": "markdown",
      "metadata": {
        "id": "fDCQhZeHyqfb",
        "colab_type": "text"
      },
      "source": [
        "# Object classification on Tiny Imagenet Data"
      ]
    },
    {
      "cell_type": "code",
      "metadata": {
        "id": "j1EcWDOVIjkV",
        "colab_type": "code",
        "colab": {
          "base_uri": "https://localhost:8080/",
          "height": 68
        },
        "outputId": "1c4c12ce-35f8-4865-cc49-aa2ba08a3347"
      },
      "source": [
        "!pip install --no-cache-dir git+https://github.com/albu/albumentations > /dev/null && echo \"Albumentation library is successfully installed!\"\n",
        "!git clone https://github.com/Sushmitha-Katti/PyTNet \n",
        "import sys\n",
        "sys.path.append(\"PyTNet\")"
      ],
      "execution_count": 1,
      "outputs": [
        {
          "output_type": "stream",
          "text": [
            "  Running command git clone -q https://github.com/albu/albumentations /tmp/pip-req-build-cwgu5xsy\n",
            "Albumentation library is successfully installed!\n",
            "fatal: destination path 'PyTNet' already exists and is not an empty directory.\n"
          ],
          "name": "stdout"
        }
      ]
    },
    {
      "cell_type": "markdown",
      "metadata": {
        "id": "9XDU27uFv1sk",
        "colab_type": "text"
      },
      "source": [
        "## **Importing Required files**"
      ]
    },
    {
      "cell_type": "code",
      "metadata": {
        "id": "pqlirjsPJM6p",
        "colab_type": "code",
        "colab": {}
      },
      "source": [
        "import torch\n",
        "import train_test_loader\n",
        "import show_images\n",
        "import train_test\n",
        "import evaluate\n",
        "from Albumentationtransform import AlbumentationTransforms\n",
        "from GradCam import GradCAM,visualize_cam\n",
        "from LR_Range_Test import LR_test\n",
        "from tinyimagenet import TinyImageNetDataSet"
      ],
      "execution_count": 0,
      "outputs": []
    },
    {
      "cell_type": "code",
      "metadata": {
        "colab_type": "code",
        "outputId": "92563238-00ce-4188-d10a-c276ce11df35",
        "id": "bIKF2glv-ypB",
        "colab": {
          "base_uri": "https://localhost:8080/",
          "height": 132,
          "referenced_widgets": [
            "b8fa16b721e54ad392c56027e1c94847",
            "3bb57c3cb57f4ab581057d2fbf49854b",
            "c2967d94c52245f391e4e4642ed36528",
            "b556fe01eefd4d3385aae3607d80f219",
            "9a6a3856717e47c284ed743133f7c323",
            "80aa797be89d41119723b0230b9b2936",
            "4b02e1d03ea643a8bb04624d42e2ea69",
            "5390910787814f9fb72454e62993a6d9",
            "296c155bba0248ea80bbb92a8cf78fb0",
            "3de2c6ed7c364d1092d8ad86f38fa070",
            "b62de4daf27c499f964f9c363df630e9",
            "3cfbfc2069de4bf8bebe66fa628d6380",
            "bd49fdbbe8bd4a2e927a9b45e0f6e205",
            "e42d52ae67c241c4b186a55aba5ed3c8",
            "034d314cfbdb45d69bbab1ac21718c1a",
            "a05afb200e254002bfe6890553954901"
          ]
        }
      },
      "source": [
        "import albumentations as A\n",
        "import cv2\n",
        "channel_means = (0.5, 0.5, 0.5)\n",
        "channel_stdevs = (0.5, 0.5, 0.5)\n",
        "train_transform = AlbumentationTransforms([       \n",
        "                                                                \n",
        "                                      A.HorizontalFlip(p = 0.7),\n",
        "                                      A.PadIfNeeded(min_height=70, min_width=70, border_mode=4, value=None, mask_value=None, always_apply=False, p=1.0),\n",
        "                                      A.GaussNoise(var_limit=(10.0, 50.0), mean=0, always_apply=False, p=0.5),\n",
        "                                      A.RandomCrop(64, 64, always_apply=False, p=1.0),\n",
        "                                      # A.transforms.ShiftScaleRotate()\n",
        "                                      A.Normalize(mean=channel_means, std=channel_stdevs),\n",
        "                                      A.Cutout(num_holes=1, max_h_size=32,max_w_size = 32,p=0.7) \n",
        "                                       ])\n",
        "test_transform = AlbumentationTransforms([A.Normalize(mean=channel_means, std=channel_stdevs)])\n",
        "train_dataset , test_dataset,classes = TinyImageNetDataSet(train_split = 70,test_transforms = test_transform,train_transforms = train_transform)"
      ],
      "execution_count": 3,
      "outputs": [
        {
          "output_type": "stream",
          "text": [
            "Images already downloaded...\n"
          ],
          "name": "stdout"
        },
        {
          "output_type": "display_data",
          "data": {
            "application/vnd.jupyter.widget-view+json": {
              "model_id": "b8fa16b721e54ad392c56027e1c94847",
              "version_minor": 0,
              "version_major": 2
            },
            "text/plain": [
              "HBox(children=(IntProgress(value=0, description='Loading Train Folder', max=200, style=ProgressStyle(descripti…"
            ]
          },
          "metadata": {
            "tags": []
          }
        },
        {
          "output_type": "stream",
          "text": [
            "\n"
          ],
          "name": "stdout"
        },
        {
          "output_type": "display_data",
          "data": {
            "application/vnd.jupyter.widget-view+json": {
              "model_id": "296c155bba0248ea80bbb92a8cf78fb0",
              "version_minor": 0,
              "version_major": 2
            },
            "text/plain": [
              "HBox(children=(IntProgress(value=0, description='Loading Test Folder', max=10000, style=ProgressStyle(descript…"
            ]
          },
          "metadata": {
            "tags": []
          }
        },
        {
          "output_type": "stream",
          "text": [
            "\n"
          ],
          "name": "stdout"
        }
      ]
    },
    {
      "cell_type": "markdown",
      "metadata": {
        "id": "i2ZEDSUsvctr",
        "colab_type": "text"
      },
      "source": [
        "## **DataLoader**"
      ]
    },
    {
      "cell_type": "code",
      "metadata": {
        "id": "PKBwtbU87nKW",
        "colab_type": "code",
        "colab": {}
      },
      "source": [
        "trainloader, testloader = train_test_loader.load(train_dataset,test_dataset,batch_size=640)"
      ],
      "execution_count": 0,
      "outputs": []
    },
    {
      "cell_type": "markdown",
      "metadata": {
        "id": "bidyNeFy0mK1",
        "colab_type": "text"
      },
      "source": [
        "## **Used Torchvisions resnet model, but not pre trained. Print the summary**"
      ]
    },
    {
      "cell_type": "code",
      "metadata": {
        "id": "kxcMgICoIpHI",
        "colab_type": "code",
        "outputId": "e38433fa-03e4-4b0c-e870-d33379f1489f",
        "colab": {
          "base_uri": "https://localhost:8080/",
          "height": 1000
        }
      },
      "source": [
        "import torchvision\n",
        "import torch.nn as nn\n",
        "import torch.nn.functional as F\n",
        "from torchsummary import summary\n",
        "\n",
        "use_cuda = torch.cuda.is_available()\n",
        "device = torch.device(\"cuda\" if use_cuda else \"cpu\")\n",
        "model = torchvision.models.resnet18(pretrained=False, num_classes=200).to(device)\n",
        "summary(model, input_size=(3, 64, 64))\n"
      ],
      "execution_count": 5,
      "outputs": [
        {
          "output_type": "stream",
          "text": [
            "----------------------------------------------------------------\n",
            "        Layer (type)               Output Shape         Param #\n",
            "================================================================\n",
            "            Conv2d-1           [-1, 64, 32, 32]           9,408\n",
            "       BatchNorm2d-2           [-1, 64, 32, 32]             128\n",
            "              ReLU-3           [-1, 64, 32, 32]               0\n",
            "         MaxPool2d-4           [-1, 64, 16, 16]               0\n",
            "            Conv2d-5           [-1, 64, 16, 16]          36,864\n",
            "       BatchNorm2d-6           [-1, 64, 16, 16]             128\n",
            "              ReLU-7           [-1, 64, 16, 16]               0\n",
            "            Conv2d-8           [-1, 64, 16, 16]          36,864\n",
            "       BatchNorm2d-9           [-1, 64, 16, 16]             128\n",
            "             ReLU-10           [-1, 64, 16, 16]               0\n",
            "       BasicBlock-11           [-1, 64, 16, 16]               0\n",
            "           Conv2d-12           [-1, 64, 16, 16]          36,864\n",
            "      BatchNorm2d-13           [-1, 64, 16, 16]             128\n",
            "             ReLU-14           [-1, 64, 16, 16]               0\n",
            "           Conv2d-15           [-1, 64, 16, 16]          36,864\n",
            "      BatchNorm2d-16           [-1, 64, 16, 16]             128\n",
            "             ReLU-17           [-1, 64, 16, 16]               0\n",
            "       BasicBlock-18           [-1, 64, 16, 16]               0\n",
            "           Conv2d-19            [-1, 128, 8, 8]          73,728\n",
            "      BatchNorm2d-20            [-1, 128, 8, 8]             256\n",
            "             ReLU-21            [-1, 128, 8, 8]               0\n",
            "           Conv2d-22            [-1, 128, 8, 8]         147,456\n",
            "      BatchNorm2d-23            [-1, 128, 8, 8]             256\n",
            "           Conv2d-24            [-1, 128, 8, 8]           8,192\n",
            "      BatchNorm2d-25            [-1, 128, 8, 8]             256\n",
            "             ReLU-26            [-1, 128, 8, 8]               0\n",
            "       BasicBlock-27            [-1, 128, 8, 8]               0\n",
            "           Conv2d-28            [-1, 128, 8, 8]         147,456\n",
            "      BatchNorm2d-29            [-1, 128, 8, 8]             256\n",
            "             ReLU-30            [-1, 128, 8, 8]               0\n",
            "           Conv2d-31            [-1, 128, 8, 8]         147,456\n",
            "      BatchNorm2d-32            [-1, 128, 8, 8]             256\n",
            "             ReLU-33            [-1, 128, 8, 8]               0\n",
            "       BasicBlock-34            [-1, 128, 8, 8]               0\n",
            "           Conv2d-35            [-1, 256, 4, 4]         294,912\n",
            "      BatchNorm2d-36            [-1, 256, 4, 4]             512\n",
            "             ReLU-37            [-1, 256, 4, 4]               0\n",
            "           Conv2d-38            [-1, 256, 4, 4]         589,824\n",
            "      BatchNorm2d-39            [-1, 256, 4, 4]             512\n",
            "           Conv2d-40            [-1, 256, 4, 4]          32,768\n",
            "      BatchNorm2d-41            [-1, 256, 4, 4]             512\n",
            "             ReLU-42            [-1, 256, 4, 4]               0\n",
            "       BasicBlock-43            [-1, 256, 4, 4]               0\n",
            "           Conv2d-44            [-1, 256, 4, 4]         589,824\n",
            "      BatchNorm2d-45            [-1, 256, 4, 4]             512\n",
            "             ReLU-46            [-1, 256, 4, 4]               0\n",
            "           Conv2d-47            [-1, 256, 4, 4]         589,824\n",
            "      BatchNorm2d-48            [-1, 256, 4, 4]             512\n",
            "             ReLU-49            [-1, 256, 4, 4]               0\n",
            "       BasicBlock-50            [-1, 256, 4, 4]               0\n",
            "           Conv2d-51            [-1, 512, 2, 2]       1,179,648\n",
            "      BatchNorm2d-52            [-1, 512, 2, 2]           1,024\n",
            "             ReLU-53            [-1, 512, 2, 2]               0\n",
            "           Conv2d-54            [-1, 512, 2, 2]       2,359,296\n",
            "      BatchNorm2d-55            [-1, 512, 2, 2]           1,024\n",
            "           Conv2d-56            [-1, 512, 2, 2]         131,072\n",
            "      BatchNorm2d-57            [-1, 512, 2, 2]           1,024\n",
            "             ReLU-58            [-1, 512, 2, 2]               0\n",
            "       BasicBlock-59            [-1, 512, 2, 2]               0\n",
            "           Conv2d-60            [-1, 512, 2, 2]       2,359,296\n",
            "      BatchNorm2d-61            [-1, 512, 2, 2]           1,024\n",
            "             ReLU-62            [-1, 512, 2, 2]               0\n",
            "           Conv2d-63            [-1, 512, 2, 2]       2,359,296\n",
            "      BatchNorm2d-64            [-1, 512, 2, 2]           1,024\n",
            "             ReLU-65            [-1, 512, 2, 2]               0\n",
            "       BasicBlock-66            [-1, 512, 2, 2]               0\n",
            "AdaptiveAvgPool2d-67            [-1, 512, 1, 1]               0\n",
            "           Linear-68                  [-1, 200]         102,600\n",
            "================================================================\n",
            "Total params: 11,279,112\n",
            "Trainable params: 11,279,112\n",
            "Non-trainable params: 0\n",
            "----------------------------------------------------------------\n",
            "Input size (MB): 0.05\n",
            "Forward/backward pass size (MB): 5.13\n",
            "Params size (MB): 43.03\n",
            "Estimated Total Size (MB): 48.20\n",
            "----------------------------------------------------------------\n"
          ],
          "name": "stdout"
        }
      ]
    },
    {
      "cell_type": "markdown",
      "metadata": {
        "id": "prWMRFks05H2",
        "colab_type": "text"
      },
      "source": [
        "## **Initialise Optimiser,Scheduler, Criterion**"
      ]
    },
    {
      "cell_type": "code",
      "metadata": {
        "id": "Wr_OTR8erktV",
        "colab_type": "code",
        "colab": {}
      },
      "source": [
        "import torch.nn as nn\n",
        "import torch.optim as optim\n",
        "from torch.optim.lr_scheduler import OneCycleLR\n",
        "\n",
        "optimizer = optim.SGD(model.parameters(), lr=0.01,momentum=0.9 ) \n",
        "criterion = nn.CrossEntropyLoss()\n",
        "scheduler = OneCycleLR(optimizer, max_lr = 0.2, total_steps=None, epochs=20, steps_per_epoch=1, pct_start=0.5, anneal_strategy='linear', cycle_momentum=True, base_momentum=0.85, max_momentum=0.95, div_factor=10.0,final_div_factor =1)\n"
      ],
      "execution_count": 0,
      "outputs": []
    },
    {
      "cell_type": "markdown",
      "metadata": {
        "id": "qumgWijf1Fsi",
        "colab_type": "text"
      },
      "source": [
        "## **Train Model**"
      ]
    },
    {
      "cell_type": "code",
      "metadata": {
        "id": "6LGzV7sWtGo5",
        "colab_type": "code",
        "outputId": "b771f98c-6e3c-4ea9-e01f-e939ee863a55",
        "colab": {
          "base_uri": "https://localhost:8080/",
          "height": 1000
        }
      },
      "source": [
        "\n",
        "train_test.train_model(model,device,trainloader,testloader,optimizer,criterion,20,scheduler,batch_scheduler=False,best_acc = 0,path = \"tinymodel.pt\")"
      ],
      "execution_count": 7,
      "outputs": [
        {
          "output_type": "stream",
          "text": [
            "\r  0%|          | 0/121 [00:00<?, ?it/s]"
          ],
          "name": "stderr"
        },
        {
          "output_type": "stream",
          "text": [
            "EPOCH: 1 LR: 0.02\n"
          ],
          "name": "stdout"
        },
        {
          "output_type": "stream",
          "text": [
            "Loss=4.554074287414551 Batch_id=120 Accuracy=3.15: 100%|██████████| 121/121 [03:29<00:00,  1.73s/it]\n",
            "100%|██████████| 52/52 [00:08<00:00,  5.97it/s]\n",
            "  0%|          | 0/121 [00:00<?, ?it/s]"
          ],
          "name": "stderr"
        },
        {
          "output_type": "stream",
          "text": [
            "\n",
            "Test set: Average loss: 0.0073, Accuracy: 2039/33000 (6.18%)\n",
            "\n",
            "accuracy increased, Saving model....\n",
            "EPOCH: 2 LR: 0.04\n"
          ],
          "name": "stdout"
        },
        {
          "output_type": "stream",
          "text": [
            "Loss=4.117725372314453 Batch_id=120 Accuracy=9.51: 100%|██████████| 121/121 [03:29<00:00,  1.73s/it]\n",
            "100%|██████████| 52/52 [00:08<00:00,  6.02it/s]\n",
            "  0%|          | 0/121 [00:00<?, ?it/s]"
          ],
          "name": "stderr"
        },
        {
          "output_type": "stream",
          "text": [
            "\n",
            "Test set: Average loss: 0.0064, Accuracy: 4322/33000 (13.10%)\n",
            "\n",
            "accuracy increased, Saving model....\n",
            "EPOCH: 3 LR: 0.06\n"
          ],
          "name": "stdout"
        },
        {
          "output_type": "stream",
          "text": [
            "Loss=3.7764971256256104 Batch_id=120 Accuracy=15.42: 100%|██████████| 121/121 [03:28<00:00,  1.72s/it]\n",
            "100%|██████████| 52/52 [00:08<00:00,  5.99it/s]\n",
            "  0%|          | 0/121 [00:00<?, ?it/s]"
          ],
          "name": "stderr"
        },
        {
          "output_type": "stream",
          "text": [
            "\n",
            "Test set: Average loss: 0.0062, Accuracy: 4947/33000 (14.99%)\n",
            "\n",
            "accuracy increased, Saving model....\n",
            "EPOCH: 4 LR: 0.08\n"
          ],
          "name": "stdout"
        },
        {
          "output_type": "stream",
          "text": [
            "Loss=3.4655826091766357 Batch_id=120 Accuracy=19.87: 100%|██████████| 121/121 [03:28<00:00,  1.72s/it]\n",
            "100%|██████████| 52/52 [00:08<00:00,  6.09it/s]\n",
            "  0%|          | 0/121 [00:00<?, ?it/s]"
          ],
          "name": "stderr"
        },
        {
          "output_type": "stream",
          "text": [
            "\n",
            "Test set: Average loss: 0.0057, Accuracy: 6603/33000 (20.01%)\n",
            "\n",
            "accuracy increased, Saving model....\n",
            "EPOCH: 5 LR: 0.1\n"
          ],
          "name": "stdout"
        },
        {
          "output_type": "stream",
          "text": [
            "Loss=3.4208602905273438 Batch_id=120 Accuracy=23.28: 100%|██████████| 121/121 [03:28<00:00,  1.72s/it]\n",
            "100%|██████████| 52/52 [00:08<00:00,  6.03it/s]\n",
            "  0%|          | 0/121 [00:00<?, ?it/s]"
          ],
          "name": "stderr"
        },
        {
          "output_type": "stream",
          "text": [
            "\n",
            "Test set: Average loss: 0.0057, Accuracy: 6978/33000 (21.15%)\n",
            "\n",
            "accuracy increased, Saving model....\n",
            "EPOCH: 6 LR: 0.12000000000000002\n"
          ],
          "name": "stdout"
        },
        {
          "output_type": "stream",
          "text": [
            "Loss=3.0838611125946045 Batch_id=120 Accuracy=26.33: 100%|██████████| 121/121 [03:28<00:00,  1.72s/it]\n",
            "100%|██████████| 52/52 [00:08<00:00,  6.03it/s]\n",
            "  0%|          | 0/121 [00:00<?, ?it/s]"
          ],
          "name": "stderr"
        },
        {
          "output_type": "stream",
          "text": [
            "\n",
            "Test set: Average loss: 0.0053, Accuracy: 8246/33000 (24.99%)\n",
            "\n",
            "accuracy increased, Saving model....\n",
            "EPOCH: 7 LR: 0.14\n"
          ],
          "name": "stdout"
        },
        {
          "output_type": "stream",
          "text": [
            "Loss=2.982969284057617 Batch_id=120 Accuracy=29.26: 100%|██████████| 121/121 [03:28<00:00,  1.72s/it]\n",
            "100%|██████████| 52/52 [00:08<00:00,  5.98it/s]\n",
            "  0%|          | 0/121 [00:00<?, ?it/s]"
          ],
          "name": "stderr"
        },
        {
          "output_type": "stream",
          "text": [
            "\n",
            "Test set: Average loss: 0.0052, Accuracy: 8538/33000 (25.87%)\n",
            "\n",
            "accuracy increased, Saving model....\n",
            "EPOCH: 8 LR: 0.16\n"
          ],
          "name": "stdout"
        },
        {
          "output_type": "stream",
          "text": [
            "Loss=3.1578032970428467 Batch_id=120 Accuracy=32.07: 100%|██████████| 121/121 [03:28<00:00,  1.72s/it]\n",
            "100%|██████████| 52/52 [00:08<00:00,  6.09it/s]\n",
            "  0%|          | 0/121 [00:00<?, ?it/s]"
          ],
          "name": "stderr"
        },
        {
          "output_type": "stream",
          "text": [
            "\n",
            "Test set: Average loss: 0.0053, Accuracy: 8469/33000 (25.66%)\n",
            "\n",
            "EPOCH: 9 LR: 0.18\n"
          ],
          "name": "stdout"
        },
        {
          "output_type": "stream",
          "text": [
            "Loss=2.9183380603790283 Batch_id=120 Accuracy=34.35: 100%|██████████| 121/121 [03:28<00:00,  1.72s/it]\n",
            "100%|██████████| 52/52 [00:08<00:00,  6.04it/s]\n",
            "  0%|          | 0/121 [00:00<?, ?it/s]"
          ],
          "name": "stderr"
        },
        {
          "output_type": "stream",
          "text": [
            "\n",
            "Test set: Average loss: 0.0050, Accuracy: 9647/33000 (29.23%)\n",
            "\n",
            "accuracy increased, Saving model....\n",
            "EPOCH: 10 LR: 0.2\n"
          ],
          "name": "stdout"
        },
        {
          "output_type": "stream",
          "text": [
            "Loss=2.7439064979553223 Batch_id=120 Accuracy=36.98: 100%|██████████| 121/121 [03:28<00:00,  1.72s/it]\n",
            "100%|██████████| 52/52 [00:08<00:00,  6.15it/s]\n",
            "  0%|          | 0/121 [00:00<?, ?it/s]"
          ],
          "name": "stderr"
        },
        {
          "output_type": "stream",
          "text": [
            "\n",
            "Test set: Average loss: 0.0050, Accuracy: 9770/33000 (29.61%)\n",
            "\n",
            "accuracy increased, Saving model....\n",
            "EPOCH: 11 LR: 0.182\n"
          ],
          "name": "stdout"
        },
        {
          "output_type": "stream",
          "text": [
            "Loss=2.4360079765319824 Batch_id=120 Accuracy=39.83: 100%|██████████| 121/121 [03:28<00:00,  1.72s/it]\n",
            "100%|██████████| 52/52 [00:08<00:00,  6.07it/s]\n",
            "  0%|          | 0/121 [00:00<?, ?it/s]"
          ],
          "name": "stderr"
        },
        {
          "output_type": "stream",
          "text": [
            "\n",
            "Test set: Average loss: 0.0049, Accuracy: 10131/33000 (30.70%)\n",
            "\n",
            "accuracy increased, Saving model....\n",
            "EPOCH: 12 LR: 0.164\n"
          ],
          "name": "stdout"
        },
        {
          "output_type": "stream",
          "text": [
            "Loss=2.552393913269043 Batch_id=120 Accuracy=43.04: 100%|██████████| 121/121 [03:28<00:00,  1.72s/it]\n",
            "100%|██████████| 52/52 [00:08<00:00,  6.05it/s]\n",
            "  0%|          | 0/121 [00:00<?, ?it/s]"
          ],
          "name": "stderr"
        },
        {
          "output_type": "stream",
          "text": [
            "\n",
            "Test set: Average loss: 0.0050, Accuracy: 10017/33000 (30.35%)\n",
            "\n",
            "EPOCH: 13 LR: 0.14600000000000002\n"
          ],
          "name": "stdout"
        },
        {
          "output_type": "stream",
          "text": [
            "Loss=2.388986110687256 Batch_id=120 Accuracy=45.92: 100%|██████████| 121/121 [03:28<00:00,  1.72s/it]\n",
            "100%|██████████| 52/52 [00:08<00:00,  6.14it/s]\n",
            "  0%|          | 0/121 [00:00<?, ?it/s]"
          ],
          "name": "stderr"
        },
        {
          "output_type": "stream",
          "text": [
            "\n",
            "Test set: Average loss: 0.0048, Accuracy: 10804/33000 (32.74%)\n",
            "\n",
            "accuracy increased, Saving model....\n",
            "EPOCH: 14 LR: 0.128\n"
          ],
          "name": "stdout"
        },
        {
          "output_type": "stream",
          "text": [
            "Loss=2.2306931018829346 Batch_id=120 Accuracy=49.59: 100%|██████████| 121/121 [03:27<00:00,  1.72s/it]\n",
            "100%|██████████| 52/52 [00:08<00:00,  6.04it/s]\n",
            "  0%|          | 0/121 [00:00<?, ?it/s]"
          ],
          "name": "stderr"
        },
        {
          "output_type": "stream",
          "text": [
            "\n",
            "Test set: Average loss: 0.0049, Accuracy: 10822/33000 (32.79%)\n",
            "\n",
            "accuracy increased, Saving model....\n",
            "EPOCH: 15 LR: 0.11\n"
          ],
          "name": "stdout"
        },
        {
          "output_type": "stream",
          "text": [
            "Loss=1.8769996166229248 Batch_id=120 Accuracy=52.65: 100%|██████████| 121/121 [03:28<00:00,  1.72s/it]\n",
            "100%|██████████| 52/52 [00:08<00:00,  6.09it/s]\n",
            "  0%|          | 0/121 [00:00<?, ?it/s]"
          ],
          "name": "stderr"
        },
        {
          "output_type": "stream",
          "text": [
            "\n",
            "Test set: Average loss: 0.0049, Accuracy: 10896/33000 (33.02%)\n",
            "\n",
            "accuracy increased, Saving model....\n",
            "EPOCH: 16 LR: 0.092\n"
          ],
          "name": "stdout"
        },
        {
          "output_type": "stream",
          "text": [
            "Loss=1.6302900314331055 Batch_id=120 Accuracy=56.16: 100%|██████████| 121/121 [03:27<00:00,  1.72s/it]\n",
            "100%|██████████| 52/52 [00:08<00:00,  6.00it/s]\n",
            "  0%|          | 0/121 [00:00<?, ?it/s]"
          ],
          "name": "stderr"
        },
        {
          "output_type": "stream",
          "text": [
            "\n",
            "Test set: Average loss: 0.0051, Accuracy: 11129/33000 (33.72%)\n",
            "\n",
            "accuracy increased, Saving model....\n",
            "EPOCH: 17 LR: 0.07400000000000001\n"
          ],
          "name": "stdout"
        },
        {
          "output_type": "stream",
          "text": [
            "Loss=1.5824987888336182 Batch_id=120 Accuracy=59.91: 100%|██████████| 121/121 [03:27<00:00,  1.72s/it]\n",
            "100%|██████████| 52/52 [00:08<00:00,  6.07it/s]\n",
            "  0%|          | 0/121 [00:00<?, ?it/s]"
          ],
          "name": "stderr"
        },
        {
          "output_type": "stream",
          "text": [
            "\n",
            "Test set: Average loss: 0.0048, Accuracy: 11687/33000 (35.42%)\n",
            "\n",
            "accuracy increased, Saving model....\n",
            "EPOCH: 18 LR: 0.055999999999999994\n"
          ],
          "name": "stdout"
        },
        {
          "output_type": "stream",
          "text": [
            "Loss=1.3527356386184692 Batch_id=120 Accuracy=64.96: 100%|██████████| 121/121 [03:28<00:00,  1.72s/it]\n",
            "100%|██████████| 52/52 [00:08<00:00,  6.02it/s]\n",
            "  0%|          | 0/121 [00:00<?, ?it/s]"
          ],
          "name": "stderr"
        },
        {
          "output_type": "stream",
          "text": [
            "\n",
            "Test set: Average loss: 0.0050, Accuracy: 11685/33000 (35.41%)\n",
            "\n",
            "EPOCH: 19 LR: 0.03799999999999998\n"
          ],
          "name": "stdout"
        },
        {
          "output_type": "stream",
          "text": [
            "Loss=1.1192513704299927 Batch_id=120 Accuracy=70.41: 100%|██████████| 121/121 [03:27<00:00,  1.72s/it]\n",
            "100%|██████████| 52/52 [00:08<00:00,  5.97it/s]\n",
            "  0%|          | 0/121 [00:00<?, ?it/s]"
          ],
          "name": "stderr"
        },
        {
          "output_type": "stream",
          "text": [
            "\n",
            "Test set: Average loss: 0.0050, Accuracy: 11994/33000 (36.35%)\n",
            "\n",
            "accuracy increased, Saving model....\n",
            "EPOCH: 20 LR: 0.01999999999999999\n"
          ],
          "name": "stdout"
        },
        {
          "output_type": "stream",
          "text": [
            "Loss=0.9433963298797607 Batch_id=120 Accuracy=76.92: 100%|██████████| 121/121 [03:27<00:00,  1.72s/it]\n",
            "100%|██████████| 52/52 [00:08<00:00,  6.11it/s]\n"
          ],
          "name": "stderr"
        },
        {
          "output_type": "stream",
          "text": [
            "\n",
            "Test set: Average loss: 0.0049, Accuracy: 12365/33000 (37.47%)\n",
            "\n",
            "accuracy increased, Saving model....\n"
          ],
          "name": "stdout"
        }
      ]
    },
    {
      "cell_type": "code",
      "metadata": {
        "id": "WO0hlvO4aUQj",
        "colab_type": "code",
        "colab": {}
      },
      "source": [
        "optimizer = optim.SGD(model.parameters(), lr=0.01,momentum=0.9 ) \n",
        "criterion = nn.CrossEntropyLoss()\n",
        "scheduler = OneCycleLR(optimizer, max_lr = 0.01, total_steps=None, epochs=20, steps_per_epoch=1, pct_start=0.1, anneal_strategy='linear', cycle_momentum=True, base_momentum=0.85, max_momentum=0.95, div_factor=10.0,final_div_factor =1)\n"
      ],
      "execution_count": 0,
      "outputs": []
    },
    {
      "cell_type": "code",
      "metadata": {
        "id": "evtQ3vcWJCiG",
        "colab_type": "code",
        "colab": {
          "base_uri": "https://localhost:8080/",
          "height": 1000
        },
        "outputId": "6000a488-ac1e-4493-dda1-a25a5e03b14b"
      },
      "source": [
        "\n",
        "train_test.train_model(model,device,trainloader,testloader,optimizer,criterion,20,scheduler,batch_scheduler=False,best_acc = 0,path = \"tinymodel.pt\")"
      ],
      "execution_count": 9,
      "outputs": [
        {
          "output_type": "stream",
          "text": [
            "\r  0%|          | 0/121 [00:00<?, ?it/s]"
          ],
          "name": "stderr"
        },
        {
          "output_type": "stream",
          "text": [
            "EPOCH: 1 LR: 0.001\n"
          ],
          "name": "stdout"
        },
        {
          "output_type": "stream",
          "text": [
            "Loss=0.750038206577301 Batch_id=120 Accuracy=82.02: 100%|██████████| 121/121 [03:29<00:00,  1.73s/it]\n",
            "100%|██████████| 52/52 [00:08<00:00,  6.10it/s]\n",
            "  0%|          | 0/121 [00:00<?, ?it/s]"
          ],
          "name": "stderr"
        },
        {
          "output_type": "stream",
          "text": [
            "\n",
            "Test set: Average loss: 0.0048, Accuracy: 12875/33000 (39.02%)\n",
            "\n",
            "accuracy increased, Saving model....\n",
            "EPOCH: 2 LR: 0.010000000000000002\n"
          ],
          "name": "stdout"
        },
        {
          "output_type": "stream",
          "text": [
            "Loss=0.6172533631324768 Batch_id=120 Accuracy=83.01: 100%|██████████| 121/121 [03:28<00:00,  1.72s/it]\n",
            "100%|██████████| 52/52 [00:08<00:00,  6.07it/s]\n",
            "  0%|          | 0/121 [00:00<?, ?it/s]"
          ],
          "name": "stderr"
        },
        {
          "output_type": "stream",
          "text": [
            "\n",
            "Test set: Average loss: 0.0048, Accuracy: 12913/33000 (39.13%)\n",
            "\n",
            "accuracy increased, Saving model....\n",
            "EPOCH: 3 LR: 0.0095\n"
          ],
          "name": "stdout"
        },
        {
          "output_type": "stream",
          "text": [
            "Loss=0.725289523601532 Batch_id=120 Accuracy=84.30: 100%|██████████| 121/121 [03:28<00:00,  1.72s/it]\n",
            "100%|██████████| 52/52 [00:08<00:00,  5.94it/s]\n",
            "  0%|          | 0/121 [00:00<?, ?it/s]"
          ],
          "name": "stderr"
        },
        {
          "output_type": "stream",
          "text": [
            "\n",
            "Test set: Average loss: 0.0048, Accuracy: 12878/33000 (39.02%)\n",
            "\n",
            "EPOCH: 4 LR: 0.009000000000000001\n"
          ],
          "name": "stdout"
        },
        {
          "output_type": "stream",
          "text": [
            "Loss=0.6510555744171143 Batch_id=120 Accuracy=85.06: 100%|██████████| 121/121 [03:28<00:00,  1.72s/it]\n",
            "100%|██████████| 52/52 [00:08<00:00,  5.91it/s]\n",
            "  0%|          | 0/121 [00:00<?, ?it/s]"
          ],
          "name": "stderr"
        },
        {
          "output_type": "stream",
          "text": [
            "\n",
            "Test set: Average loss: 0.0048, Accuracy: 12918/33000 (39.15%)\n",
            "\n",
            "accuracy increased, Saving model....\n",
            "EPOCH: 5 LR: 0.0085\n"
          ],
          "name": "stdout"
        },
        {
          "output_type": "stream",
          "text": [
            "Loss=0.7132852077484131 Batch_id=120 Accuracy=85.37: 100%|██████████| 121/121 [03:28<00:00,  1.72s/it]\n",
            "100%|██████████| 52/52 [00:08<00:00,  6.11it/s]\n",
            "  0%|          | 0/121 [00:00<?, ?it/s]"
          ],
          "name": "stderr"
        },
        {
          "output_type": "stream",
          "text": [
            "\n",
            "Test set: Average loss: 0.0048, Accuracy: 12843/33000 (38.92%)\n",
            "\n",
            "EPOCH: 6 LR: 0.008\n"
          ],
          "name": "stdout"
        },
        {
          "output_type": "stream",
          "text": [
            "Loss=0.5929485559463501 Batch_id=120 Accuracy=85.95: 100%|██████████| 121/121 [03:28<00:00,  1.72s/it]\n",
            "100%|██████████| 52/52 [00:08<00:00,  6.07it/s]\n",
            "  0%|          | 0/121 [00:00<?, ?it/s]"
          ],
          "name": "stderr"
        },
        {
          "output_type": "stream",
          "text": [
            "\n",
            "Test set: Average loss: 0.0048, Accuracy: 12839/33000 (38.91%)\n",
            "\n",
            "EPOCH: 7 LR: 0.0075\n"
          ],
          "name": "stdout"
        },
        {
          "output_type": "stream",
          "text": [
            "Loss=0.7576043009757996 Batch_id=120 Accuracy=86.17: 100%|██████████| 121/121 [03:28<00:00,  1.72s/it]\n",
            "100%|██████████| 52/52 [00:08<00:00,  5.96it/s]\n",
            "  0%|          | 0/121 [00:00<?, ?it/s]"
          ],
          "name": "stderr"
        },
        {
          "output_type": "stream",
          "text": [
            "\n",
            "Test set: Average loss: 0.0048, Accuracy: 12885/33000 (39.05%)\n",
            "\n",
            "EPOCH: 8 LR: 0.007\n"
          ],
          "name": "stdout"
        },
        {
          "output_type": "stream",
          "text": [
            "Loss=0.5181226134300232 Batch_id=120 Accuracy=86.58: 100%|██████████| 121/121 [03:28<00:00,  1.72s/it]\n",
            "100%|██████████| 52/52 [00:08<00:00,  6.03it/s]\n",
            "  0%|          | 0/121 [00:00<?, ?it/s]"
          ],
          "name": "stderr"
        },
        {
          "output_type": "stream",
          "text": [
            "\n",
            "Test set: Average loss: 0.0049, Accuracy: 12806/33000 (38.81%)\n",
            "\n",
            "EPOCH: 9 LR: 0.0065\n"
          ],
          "name": "stdout"
        },
        {
          "output_type": "stream",
          "text": [
            "Loss=0.596954882144928 Batch_id=120 Accuracy=87.19: 100%|██████████| 121/121 [03:28<00:00,  1.72s/it]\n",
            "100%|██████████| 52/52 [00:08<00:00,  6.06it/s]\n",
            "  0%|          | 0/121 [00:00<?, ?it/s]"
          ],
          "name": "stderr"
        },
        {
          "output_type": "stream",
          "text": [
            "\n",
            "Test set: Average loss: 0.0049, Accuracy: 12819/33000 (38.85%)\n",
            "\n",
            "EPOCH: 10 LR: 0.006\n"
          ],
          "name": "stdout"
        },
        {
          "output_type": "stream",
          "text": [
            "Loss=0.6262575387954712 Batch_id=120 Accuracy=87.24: 100%|██████████| 121/121 [03:27<00:00,  1.72s/it]\n",
            "100%|██████████| 52/52 [00:08<00:00,  6.13it/s]\n",
            "  0%|          | 0/121 [00:00<?, ?it/s]"
          ],
          "name": "stderr"
        },
        {
          "output_type": "stream",
          "text": [
            "\n",
            "Test set: Average loss: 0.0049, Accuracy: 12795/33000 (38.77%)\n",
            "\n",
            "EPOCH: 11 LR: 0.0055\n"
          ],
          "name": "stdout"
        },
        {
          "output_type": "stream",
          "text": [
            "Loss=0.4549295902252197 Batch_id=120 Accuracy=87.75: 100%|██████████| 121/121 [03:27<00:00,  1.72s/it]\n",
            "100%|██████████| 52/52 [00:08<00:00,  6.09it/s]\n",
            "  0%|          | 0/121 [00:00<?, ?it/s]"
          ],
          "name": "stderr"
        },
        {
          "output_type": "stream",
          "text": [
            "\n",
            "Test set: Average loss: 0.0049, Accuracy: 12809/33000 (38.82%)\n",
            "\n",
            "EPOCH: 12 LR: 0.004999999999999999\n"
          ],
          "name": "stdout"
        },
        {
          "output_type": "stream",
          "text": [
            "Loss=0.5843945145606995 Batch_id=120 Accuracy=88.00: 100%|██████████| 121/121 [03:28<00:00,  1.72s/it]\n",
            "100%|██████████| 52/52 [00:08<00:00,  5.97it/s]\n",
            "  0%|          | 0/121 [00:00<?, ?it/s]"
          ],
          "name": "stderr"
        },
        {
          "output_type": "stream",
          "text": [
            "\n",
            "Test set: Average loss: 0.0049, Accuracy: 12850/33000 (38.94%)\n",
            "\n",
            "EPOCH: 13 LR: 0.004499999999999999\n"
          ],
          "name": "stdout"
        },
        {
          "output_type": "stream",
          "text": [
            "Loss=0.5457034111022949 Batch_id=120 Accuracy=88.24: 100%|██████████| 121/121 [03:28<00:00,  1.72s/it]\n",
            "100%|██████████| 52/52 [00:08<00:00,  6.02it/s]\n",
            "  0%|          | 0/121 [00:00<?, ?it/s]"
          ],
          "name": "stderr"
        },
        {
          "output_type": "stream",
          "text": [
            "\n",
            "Test set: Average loss: 0.0050, Accuracy: 12837/33000 (38.90%)\n",
            "\n",
            "EPOCH: 14 LR: 0.004\n"
          ],
          "name": "stdout"
        },
        {
          "output_type": "stream",
          "text": [
            "Loss=0.5579295754432678 Batch_id=120 Accuracy=88.54: 100%|██████████| 121/121 [03:28<00:00,  1.72s/it]\n",
            "100%|██████████| 52/52 [00:08<00:00,  6.06it/s]\n",
            "  0%|          | 0/121 [00:00<?, ?it/s]"
          ],
          "name": "stderr"
        },
        {
          "output_type": "stream",
          "text": [
            "\n",
            "Test set: Average loss: 0.0050, Accuracy: 12873/33000 (39.01%)\n",
            "\n",
            "EPOCH: 15 LR: 0.0034999999999999996\n"
          ],
          "name": "stdout"
        },
        {
          "output_type": "stream",
          "text": [
            "Loss=0.4182529151439667 Batch_id=120 Accuracy=88.72: 100%|██████████| 121/121 [03:27<00:00,  1.72s/it]\n",
            "100%|██████████| 52/52 [00:08<00:00,  6.11it/s]\n",
            "  0%|          | 0/121 [00:00<?, ?it/s]"
          ],
          "name": "stderr"
        },
        {
          "output_type": "stream",
          "text": [
            "\n",
            "Test set: Average loss: 0.0050, Accuracy: 12820/33000 (38.85%)\n",
            "\n",
            "EPOCH: 16 LR: 0.002999999999999999\n"
          ],
          "name": "stdout"
        },
        {
          "output_type": "stream",
          "text": [
            "Loss=0.5856466889381409 Batch_id=120 Accuracy=89.01: 100%|██████████| 121/121 [03:28<00:00,  1.72s/it]\n",
            "100%|██████████| 52/52 [00:08<00:00,  6.03it/s]\n",
            "  0%|          | 0/121 [00:00<?, ?it/s]"
          ],
          "name": "stderr"
        },
        {
          "output_type": "stream",
          "text": [
            "\n",
            "Test set: Average loss: 0.0050, Accuracy: 12852/33000 (38.95%)\n",
            "\n",
            "EPOCH: 17 LR: 0.0024999999999999988\n"
          ],
          "name": "stdout"
        },
        {
          "output_type": "stream",
          "text": [
            "Loss=0.4433573782444 Batch_id=120 Accuracy=89.08: 100%|██████████| 121/121 [03:28<00:00,  1.72s/it]\n",
            "100%|██████████| 52/52 [00:08<00:00,  6.02it/s]\n",
            "  0%|          | 0/121 [00:00<?, ?it/s]"
          ],
          "name": "stderr"
        },
        {
          "output_type": "stream",
          "text": [
            "\n",
            "Test set: Average loss: 0.0050, Accuracy: 12817/33000 (38.84%)\n",
            "\n",
            "EPOCH: 18 LR: 0.002\n"
          ],
          "name": "stdout"
        },
        {
          "output_type": "stream",
          "text": [
            "Loss=0.5083755254745483 Batch_id=120 Accuracy=89.48: 100%|██████████| 121/121 [03:28<00:00,  1.72s/it]\n",
            "100%|██████████| 52/52 [00:08<00:00,  6.05it/s]\n",
            "  0%|          | 0/121 [00:00<?, ?it/s]"
          ],
          "name": "stderr"
        },
        {
          "output_type": "stream",
          "text": [
            "\n",
            "Test set: Average loss: 0.0050, Accuracy: 12790/33000 (38.76%)\n",
            "\n",
            "EPOCH: 19 LR: 0.0014999999999999996\n"
          ],
          "name": "stdout"
        },
        {
          "output_type": "stream",
          "text": [
            "Loss=0.46783557534217834 Batch_id=120 Accuracy=89.47: 100%|██████████| 121/121 [03:27<00:00,  1.72s/it]\n",
            "100%|██████████| 52/52 [00:08<00:00,  6.03it/s]\n",
            "  0%|          | 0/121 [00:00<?, ?it/s]"
          ],
          "name": "stderr"
        },
        {
          "output_type": "stream",
          "text": [
            "\n",
            "Test set: Average loss: 0.0050, Accuracy: 12803/33000 (38.80%)\n",
            "\n",
            "EPOCH: 20 LR: 0.0009999999999999992\n"
          ],
          "name": "stdout"
        },
        {
          "output_type": "stream",
          "text": [
            "Loss=0.5373174548149109 Batch_id=120 Accuracy=89.96: 100%|██████████| 121/121 [03:27<00:00,  1.72s/it]\n",
            "100%|██████████| 52/52 [00:08<00:00,  6.12it/s]"
          ],
          "name": "stderr"
        },
        {
          "output_type": "stream",
          "text": [
            "\n",
            "Test set: Average loss: 0.0050, Accuracy: 12820/33000 (38.85%)\n",
            "\n"
          ],
          "name": "stdout"
        },
        {
          "output_type": "stream",
          "text": [
            "\n"
          ],
          "name": "stderr"
        }
      ]
    },
    {
      "cell_type": "code",
      "metadata": {
        "id": "J0PPChZqa4QZ",
        "colab_type": "code",
        "colab": {}
      },
      "source": [
        "def train_model(model,device,trainloader,testloader,optimizer,criterion,EPOCHS,scheduler = False,batch_scheduler = False ,best_acc = 0,path = \"/content/gdrive/My Drive/API/bestmodel.pt\"):\n",
        "  for epoch in range(EPOCHS):\n",
        "      print(\"EPOCH:\", epoch+1,'LR:',optimizer.param_groups[0]['lr'])\n",
        "     \n",
        "      train_scheduler = False\n",
        "\n",
        "      if(batch_scheduler):\n",
        "        train_scheduler = scheduler\n",
        "      train_loss, train_acc = train_test.train(model, device, trainloader, optimizer, criterion, epoch,train_scheduler)\n",
        "      \n",
        "      test_loss , test_acc = train_test.test(model, device, criterion, testloader)\n",
        "      if(scheduler and not batch_scheduler and not isinstance(scheduler, torch.optim.lr_scheduler.ReduceLROnPlateau)): \n",
        "        scheduler.step()\n",
        "\n",
        "      elif(scheduler and not batch_scheduler and  isinstance(scheduler, torch.optim.lr_scheduler.ReduceLROnPlateau)):\n",
        "        scheduler.step(test_loss[-1])\n",
        "      \n",
        "      \n",
        "      if(test_acc[-1]>best_acc):\n",
        "        print(\"accuracy increased, Saving model....\")\n",
        "        best_acc = test_acc[-1]\n",
        "        torch.save({\n",
        "              'epoch': epoch,\n",
        "              'model_state_dict': model.state_dict(),\n",
        "              'optimizer_state_dict': optimizer.state_dict(),\n",
        "              'loss': test_loss,\n",
        "              }, path)\n"
      ],
      "execution_count": 0,
      "outputs": []
    },
    {
      "cell_type": "code",
      "metadata": {
        "id": "KNriz41KoGjf",
        "colab_type": "code",
        "colab": {}
      },
      "source": [
        "\n",
        "import torch.nn as nn\n",
        "import torch.optim as optim\n",
        "from torch.optim.lr_scheduler import ReduceLROnPlateau,StepLr\n",
        "criterion = nn.CrossEntropyLoss()\n",
        "optimizer = optim.SGD(model.parameters(), lr=0.001,momentum=0.9 ,weight_decay = 0.0001,nesterov = True)\n",
        "scheduler = ReduceLROnPlateau(optimizer, patience = 3,min_lr=1e-7)"
      ],
      "execution_count": 0,
      "outputs": []
    },
    {
      "cell_type": "code",
      "metadata": {
        "id": "tLaEBJe4oO14",
        "colab_type": "code",
        "colab": {
          "base_uri": "https://localhost:8080/",
          "height": 1000
        },
        "outputId": "ecde222b-5f63-4b34-f3d5-1065e2030f36"
      },
      "source": [
        "\n",
        "train_model(model,device,trainloader,testloader,optimizer,criterion,10,scheduler,batch_scheduler=False,best_acc = 0,path = \"tinymodel.pt\")"
      ],
      "execution_count": 17,
      "outputs": [
        {
          "output_type": "stream",
          "text": [
            "\r  0%|          | 0/121 [00:00<?, ?it/s]"
          ],
          "name": "stderr"
        },
        {
          "output_type": "stream",
          "text": [
            "EPOCH: 1 LR: 0.001\n"
          ],
          "name": "stdout"
        },
        {
          "output_type": "stream",
          "text": [
            "Loss=0.49047529697418213 Batch_id=120 Accuracy=89.97: 100%|██████████| 121/121 [03:27<00:00,  1.71s/it]\n",
            "100%|██████████| 52/52 [00:08<00:00,  5.94it/s]\n",
            "  0%|          | 0/121 [00:00<?, ?it/s]"
          ],
          "name": "stderr"
        },
        {
          "output_type": "stream",
          "text": [
            "\n",
            "Test set: Average loss: 0.0050, Accuracy: 12851/33000 (38.94%)\n",
            "\n",
            "accuracy increased, Saving model....\n",
            "EPOCH: 2 LR: 0.001\n"
          ],
          "name": "stdout"
        },
        {
          "output_type": "stream",
          "text": [
            "Loss=0.33606788516044617 Batch_id=120 Accuracy=90.19: 100%|██████████| 121/121 [03:26<00:00,  1.71s/it]\n",
            "100%|██████████| 52/52 [00:08<00:00,  6.00it/s]\n",
            "  0%|          | 0/121 [00:00<?, ?it/s]"
          ],
          "name": "stderr"
        },
        {
          "output_type": "stream",
          "text": [
            "\n",
            "Test set: Average loss: 0.0050, Accuracy: 12862/33000 (38.98%)\n",
            "\n",
            "accuracy increased, Saving model....\n",
            "EPOCH: 3 LR: 0.001\n"
          ],
          "name": "stdout"
        },
        {
          "output_type": "stream",
          "text": [
            "Loss=0.4337146282196045 Batch_id=120 Accuracy=90.23: 100%|██████████| 121/121 [03:26<00:00,  1.71s/it]\n",
            "100%|██████████| 52/52 [00:08<00:00,  6.01it/s]\n",
            "  0%|          | 0/121 [00:00<?, ?it/s]"
          ],
          "name": "stderr"
        },
        {
          "output_type": "stream",
          "text": [
            "\n",
            "Test set: Average loss: 0.0050, Accuracy: 12862/33000 (38.98%)\n",
            "\n",
            "EPOCH: 4 LR: 0.001\n"
          ],
          "name": "stdout"
        },
        {
          "output_type": "stream",
          "text": [
            "Loss=0.45309174060821533 Batch_id=120 Accuracy=90.13: 100%|██████████| 121/121 [03:26<00:00,  1.71s/it]\n",
            "100%|██████████| 52/52 [00:08<00:00,  6.02it/s]\n",
            "  0%|          | 0/121 [00:00<?, ?it/s]"
          ],
          "name": "stderr"
        },
        {
          "output_type": "stream",
          "text": [
            "\n",
            "Test set: Average loss: 0.0050, Accuracy: 12830/33000 (38.88%)\n",
            "\n",
            "EPOCH: 5 LR: 0.001\n"
          ],
          "name": "stdout"
        },
        {
          "output_type": "stream",
          "text": [
            "Loss=0.4031945466995239 Batch_id=120 Accuracy=90.29: 100%|██████████| 121/121 [03:26<00:00,  1.71s/it]\n",
            "100%|██████████| 52/52 [00:08<00:00,  6.00it/s]\n",
            "  0%|          | 0/121 [00:00<?, ?it/s]"
          ],
          "name": "stderr"
        },
        {
          "output_type": "stream",
          "text": [
            "\n",
            "Test set: Average loss: 0.0050, Accuracy: 12852/33000 (38.95%)\n",
            "\n",
            "EPOCH: 6 LR: 0.001\n"
          ],
          "name": "stdout"
        },
        {
          "output_type": "stream",
          "text": [
            "Loss=0.548020601272583 Batch_id=120 Accuracy=90.28: 100%|██████████| 121/121 [03:26<00:00,  1.71s/it]\n",
            "100%|██████████| 52/52 [00:08<00:00,  6.07it/s]\n",
            "  0%|          | 0/121 [00:00<?, ?it/s]"
          ],
          "name": "stderr"
        },
        {
          "output_type": "stream",
          "text": [
            "\n",
            "Test set: Average loss: 0.0050, Accuracy: 12829/33000 (38.88%)\n",
            "\n",
            "EPOCH: 7 LR: 0.0001\n"
          ],
          "name": "stdout"
        },
        {
          "output_type": "stream",
          "text": [
            "Loss=0.369892418384552 Batch_id=120 Accuracy=90.23: 100%|██████████| 121/121 [03:26<00:00,  1.71s/it]\n",
            "100%|██████████| 52/52 [00:08<00:00,  6.00it/s]\n",
            "  0%|          | 0/121 [00:00<?, ?it/s]"
          ],
          "name": "stderr"
        },
        {
          "output_type": "stream",
          "text": [
            "\n",
            "Test set: Average loss: 0.0050, Accuracy: 12845/33000 (38.92%)\n",
            "\n",
            "EPOCH: 8 LR: 0.0001\n"
          ],
          "name": "stdout"
        },
        {
          "output_type": "stream",
          "text": [
            "Loss=0.4142092764377594 Batch_id=120 Accuracy=90.41: 100%|██████████| 121/121 [03:26<00:00,  1.71s/it]\n",
            "100%|██████████| 52/52 [00:08<00:00,  6.04it/s]\n",
            "  0%|          | 0/121 [00:00<?, ?it/s]"
          ],
          "name": "stderr"
        },
        {
          "output_type": "stream",
          "text": [
            "\n",
            "Test set: Average loss: 0.0050, Accuracy: 12837/33000 (38.90%)\n",
            "\n",
            "EPOCH: 9 LR: 0.0001\n"
          ],
          "name": "stdout"
        },
        {
          "output_type": "stream",
          "text": [
            "Loss=0.28567931056022644 Batch_id=120 Accuracy=90.38: 100%|██████████| 121/121 [03:26<00:00,  1.71s/it]\n",
            "100%|██████████| 52/52 [00:08<00:00,  6.04it/s]\n",
            "  0%|          | 0/121 [00:00<?, ?it/s]"
          ],
          "name": "stderr"
        },
        {
          "output_type": "stream",
          "text": [
            "\n",
            "Test set: Average loss: 0.0050, Accuracy: 12821/33000 (38.85%)\n",
            "\n",
            "EPOCH: 10 LR: 0.0001\n"
          ],
          "name": "stdout"
        },
        {
          "output_type": "stream",
          "text": [
            "Loss=0.37283238768577576 Batch_id=120 Accuracy=90.48: 100%|██████████| 121/121 [03:26<00:00,  1.71s/it]\n",
            "100%|██████████| 52/52 [00:08<00:00,  5.99it/s]"
          ],
          "name": "stderr"
        },
        {
          "output_type": "stream",
          "text": [
            "\n",
            "Test set: Average loss: 0.0050, Accuracy: 12833/33000 (38.89%)\n",
            "\n"
          ],
          "name": "stdout"
        },
        {
          "output_type": "stream",
          "text": [
            "\n"
          ],
          "name": "stderr"
        }
      ]
    },
    {
      "cell_type": "code",
      "metadata": {
        "id": "VVpXqkVHr_wv",
        "colab_type": "code",
        "colab": {}
      },
      "source": [
        ""
      ],
      "execution_count": 0,
      "outputs": []
    }
  ]
}